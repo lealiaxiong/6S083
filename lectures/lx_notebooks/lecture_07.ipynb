{
 "cells": [
  {
   "cell_type": "markdown",
   "metadata": {},
   "source": [
    "# Markov chains\n",
    "\n",
    "Probability of recovering from infected state: $p$\n",
    "\n",
    "Transition matrix: $\\begin{bmatrix} 1 - p & p \\\\ 0 & 1 \\end{bmatrix}$\n",
    "\n",
    "Probability matrix at time n is $\\mathbf{P_n}$\n",
    "\n",
    "$$\\mathbf{P_{n+1}} = \\mathbf{P_n}\\begin{bmatrix} 1 - p & p \\\\ 0 & 1 \\end{bmatrix}$$"
   ]
  },
  {
   "cell_type": "code",
   "execution_count": 10,
   "metadata": {},
   "outputs": [
    {
     "data": {
      "text/plain": [
       "2×2 Array{Float64,2}:\n",
       " 0.9  0.1\n",
       " 0.0  1.0"
      ]
     },
     "execution_count": 10,
     "metadata": {},
     "output_type": "execute_result"
    }
   ],
   "source": [
    "p = 0.1\n",
    "\n",
    "M = [1 - p  p\n",
    "        0   1]"
   ]
  },
  {
   "cell_type": "code",
   "execution_count": 2,
   "metadata": {},
   "outputs": [
    {
     "data": {
      "text/plain": [
       "1×2 Array{Float64,2}:\n",
       " 1.0  0.0"
      ]
     },
     "execution_count": 2,
     "metadata": {},
     "output_type": "execute_result"
    }
   ],
   "source": [
    "P0 = [1.0  0.0]"
   ]
  },
  {
   "cell_type": "code",
   "execution_count": 4,
   "metadata": {},
   "outputs": [
    {
     "data": {
      "text/plain": [
       "dynamics (generic function with 1 method)"
      ]
     },
     "execution_count": 4,
     "metadata": {},
     "output_type": "execute_result"
    }
   ],
   "source": [
    "function dynamics(P0, M, n)\n",
    "    P = copy(P0)\n",
    "    \n",
    "    for i in 1:n\n",
    "        new_P = P * M\n",
    "        P, new_P = new_P, P # swap pointers P and new_P\n",
    "    end\n",
    "    \n",
    "    return P\n",
    "end\n",
    "        "
   ]
  },
  {
   "cell_type": "code",
   "execution_count": 5,
   "metadata": {},
   "outputs": [
    {
     "data": {
      "text/plain": [
       "1×2 Array{Float64,2}:\n",
       " 0.9  0.1"
      ]
     },
     "execution_count": 5,
     "metadata": {},
     "output_type": "execute_result"
    }
   ],
   "source": [
    "dynamics(P0, M, 1)"
   ]
  },
  {
   "cell_type": "code",
   "execution_count": 6,
   "metadata": {},
   "outputs": [
    {
     "data": {
      "text/plain": [
       "1×2 Array{Float64,2}:\n",
       " 0.348678  0.651322"
      ]
     },
     "execution_count": 6,
     "metadata": {},
     "output_type": "execute_result"
    }
   ],
   "source": [
    "dynamics(P0, M, 10)"
   ]
  },
  {
   "cell_type": "code",
   "execution_count": 7,
   "metadata": {},
   "outputs": [
    {
     "data": {
      "text/plain": [
       "1×2 Array{Float64,2}:\n",
       " 2.65614e-5  0.999973"
      ]
     },
     "execution_count": 7,
     "metadata": {},
     "output_type": "execute_result"
    }
   ],
   "source": [
    "dynamics(P0, M, 100)"
   ]
  },
  {
   "cell_type": "code",
   "execution_count": 8,
   "metadata": {},
   "outputs": [
    {
     "data": {
      "text/plain": [
       "2.6561398887587544e-5"
      ]
     },
     "execution_count": 8,
     "metadata": {},
     "output_type": "execute_result"
    }
   ],
   "source": [
    "0.9^100"
   ]
  },
  {
   "cell_type": "markdown",
   "metadata": {},
   "source": [
    "$$ P_0^{(n)} = (1-p)^{n-1} $$"
   ]
  },
  {
   "cell_type": "markdown",
   "metadata": {},
   "source": [
    "Suppose small chance of re-infection after recover"
   ]
  },
  {
   "cell_type": "code",
   "execution_count": 11,
   "metadata": {},
   "outputs": [
    {
     "data": {
      "text/plain": [
       "2×2 Array{Float64,2}:\n",
       " 0.9   0.1\n",
       " 0.01  0.99"
      ]
     },
     "execution_count": 11,
     "metadata": {},
     "output_type": "execute_result"
    }
   ],
   "source": [
    "M2 = [1-p  p\n",
    "     0.01 0.99]"
   ]
  },
  {
   "cell_type": "code",
   "execution_count": 20,
   "metadata": {},
   "outputs": [
    {
     "data": {
      "text/plain": [
       "1000-element Array{Array{Float64,2},1}:\n",
       " [0.9 0.1]\n",
       " [0.811 0.189]\n",
       " [0.73179 0.26821]\n",
       " [0.6612931000000001 0.33870690000000003]\n",
       " [0.598550859 0.40144914100000006]\n",
       " [0.54271026451 0.45728973549000007]\n",
       " [0.49301213541390004 0.5069878645861001]\n",
       " [0.44878080051837105 0.5512191994816291]\n",
       " [0.40941491246135026 0.5905850875386499]\n",
       " [0.37437927209060173 0.6256207279093984]\n",
       " [0.3431975521606356 0.6568024478393646]\n",
       " [0.3154458214229657 0.6845541785770345]\n",
       " [0.2907467810664395 0.7092532189335607]\n",
       " ⋮\n",
       " [0.09090909090909075 0.9090909090909072]\n",
       " [0.09090909090909075 0.9090909090909072]\n",
       " [0.09090909090909075 0.9090909090909072]\n",
       " [0.09090909090909075 0.9090909090909072]\n",
       " [0.09090909090909075 0.9090909090909072]\n",
       " [0.09090909090909075 0.9090909090909072]\n",
       " [0.09090909090909075 0.9090909090909072]\n",
       " [0.09090909090909075 0.9090909090909072]\n",
       " [0.09090909090909075 0.9090909090909072]\n",
       " [0.09090909090909075 0.9090909090909072]\n",
       " [0.09090909090909075 0.9090909090909072]\n",
       " [0.09090909090909075 0.9090909090909072]"
      ]
     },
     "execution_count": 20,
     "metadata": {},
     "output_type": "execute_result"
    }
   ],
   "source": [
    "data2 = [dynamics(P0, M2, n) for n in 1:1000]"
   ]
  },
  {
   "cell_type": "code",
   "execution_count": 21,
   "metadata": {},
   "outputs": [
    {
     "data": {
      "text/plain": [
       "1000-element Array{Array{Float64,2},1}:\n",
       " [0.9 0.1]\n",
       " [0.81 0.19]\n",
       " [0.7290000000000001 0.271]\n",
       " [0.6561000000000001 0.34390000000000004]\n",
       " [0.5904900000000002 0.40951000000000004]\n",
       " [0.5314410000000002 0.46855900000000006]\n",
       " [0.47829690000000014 0.5217031000000001]\n",
       " [0.43046721000000016 0.5695327900000001]\n",
       " [0.38742048900000015 0.6125795110000002]\n",
       " [0.34867844010000015 0.6513215599000002]\n",
       " [0.31381059609000017 0.6861894039100002]\n",
       " [0.28242953648100017 0.7175704635190002]\n",
       " [0.25418658283290013 0.7458134171671003]\n",
       " ⋮\n",
       " [5.569828659391132e-46 1.0]\n",
       " [5.012845793452018e-46 1.0]\n",
       " [4.511561214106817e-46 1.0]\n",
       " [4.060405092696135e-46 1.0]\n",
       " [3.654364583426521e-46 1.0]\n",
       " [3.2889281250838693e-46 1.0]\n",
       " [2.9600353125754822e-46 1.0]\n",
       " [2.664031781317934e-46 1.0]\n",
       " [2.397628603186141e-46 1.0]\n",
       " [2.157865742867527e-46 1.0]\n",
       " [1.942079168580774e-46 1.0]\n",
       " [1.7478712517226966e-46 1.0]"
      ]
     },
     "execution_count": 21,
     "metadata": {},
     "output_type": "execute_result"
    }
   ],
   "source": [
    "data = [dynamics(P0, M, n) for n in 1:1000]"
   ]
  },
  {
   "cell_type": "markdown",
   "metadata": {},
   "source": [
    "With even a small chance of re-infection, the model reaches an equilibrium.\n",
    "\n",
    "Without re-infection, the model converges to $\\begin{bmatrix} 0 & 1 \\end{bmatrix}$"
   ]
  },
  {
   "cell_type": "markdown",
   "metadata": {},
   "source": [
    "**Stationary state**"
   ]
  },
  {
   "cell_type": "markdown",
   "metadata": {},
   "source": [
    "Unchanging probability vector -- **eigenvector** $v$ of the transition matrix:\n",
    "$$ M v = \\lambda v$$"
   ]
  },
  {
   "cell_type": "code",
   "execution_count": 22,
   "metadata": {},
   "outputs": [
    {
     "data": {
      "text/plain": [
       "1×2 Array{Float64,2}:\n",
       " 0.0909091  0.909091"
      ]
     },
     "execution_count": 22,
     "metadata": {},
     "output_type": "execute_result"
    }
   ],
   "source": [
    "v = data2[end]"
   ]
  },
  {
   "cell_type": "code",
   "execution_count": 23,
   "metadata": {},
   "outputs": [
    {
     "data": {
      "text/plain": [
       "true"
      ]
     },
     "execution_count": 23,
     "metadata": {},
     "output_type": "execute_result"
    }
   ],
   "source": [
    "v * M2 == v"
   ]
  },
  {
   "cell_type": "code",
   "execution_count": 25,
   "metadata": {},
   "outputs": [
    {
     "data": {
      "text/plain": [
       "true"
      ]
     },
     "execution_count": 25,
     "metadata": {},
     "output_type": "execute_result"
    }
   ],
   "source": [
    "v * M2 == 1.0 .* v # eigenvector with eigenvalue 1"
   ]
  },
  {
   "cell_type": "markdown",
   "metadata": {},
   "source": [
    "## Continuous limit"
   ]
  },
  {
   "cell_type": "markdown",
   "metadata": {},
   "source": [
    "Probability of recovering at time $n$ is $p(1-p)^{n-1}$"
   ]
  },
  {
   "cell_type": "markdown",
   "metadata": {},
   "source": [
    "**Cumulative** probability of having recovered at some time <= n:\n",
    "\n",
    "$$s_n := \\sum_{n=1}^{N}p_n$$"
   ]
  },
  {
   "cell_type": "code",
   "execution_count": 26,
   "metadata": {},
   "outputs": [
    {
     "data": {
      "text/plain": [
       "20-element Array{Float64,1}:\n",
       " 0.1\n",
       " 0.09000000000000001\n",
       " 0.08100000000000002\n",
       " 0.0729\n",
       " 0.06561\n",
       " 0.05904900000000001\n",
       " 0.05314410000000001\n",
       " 0.04782969000000001\n",
       " 0.04304672100000001\n",
       " 0.03874204890000001\n",
       " 0.03486784401000001\n",
       " 0.031381059609000006\n",
       " 0.028242953648100012\n",
       " 0.02541865828329001\n",
       " 0.02287679245496101\n",
       " 0.02058911320946491\n",
       " 0.018530201888518418\n",
       " 0.016677181699666577\n",
       " 0.015009463529699918\n",
       " 0.013508517176729929"
      ]
     },
     "execution_count": 26,
     "metadata": {},
     "output_type": "execute_result"
    }
   ],
   "source": [
    "p = 0.1\n",
    "\n",
    "probs = [p * (1-p)^(n-1) for n in 1:20]"
   ]
  },
  {
   "cell_type": "code",
   "execution_count": 27,
   "metadata": {},
   "outputs": [
    {
     "data": {
      "text/plain": [
       "20-element Array{Float64,1}:\n",
       " 0.1\n",
       " 0.19\n",
       " 0.271\n",
       " 0.3439000000000001\n",
       " 0.40951000000000004\n",
       " 0.46855900000000006\n",
       " 0.5217031000000001\n",
       " 0.5695327900000001\n",
       " 0.6125795110000002\n",
       " 0.6513215599000002\n",
       " 0.6861894039100002\n",
       " 0.7175704635190002\n",
       " 0.7458134171671003\n",
       " 0.7712320754503903\n",
       " 0.7941088679053513\n",
       " 0.8146979811148162\n",
       " 0.8332281830033346\n",
       " 0.8499053647030012\n",
       " 0.864914828232701\n",
       " 0.878423345409431"
      ]
     },
     "execution_count": 27,
     "metadata": {},
     "output_type": "execute_result"
    }
   ],
   "source": [
    "s = cumsum(probs)"
   ]
  },
  {
   "cell_type": "code",
   "execution_count": 28,
   "metadata": {},
   "outputs": [],
   "source": [
    "using Plots"
   ]
  },
  {
   "cell_type": "code",
   "execution_count": 40,
   "metadata": {},
   "outputs": [
    {
     "data": {
      "image/svg+xml": [
       "<?xml version=\"1.0\" encoding=\"utf-8\"?>\n",
       "<svg xmlns=\"http://www.w3.org/2000/svg\" xmlns:xlink=\"http://www.w3.org/1999/xlink\" width=\"600\" height=\"400\" viewBox=\"0 0 2400 1600\">\n",
       "<defs>\n",
       "  <clipPath id=\"clip360\">\n",
       "    <rect x=\"0\" y=\"0\" width=\"2400\" height=\"1600\"/>\n",
       "  </clipPath>\n",
       "</defs>\n",
       "<path clip-path=\"url(#clip360)\" d=\"\n",
       "M0 1600 L2400 1600 L2400 0 L0 0  Z\n",
       "  \" fill=\"#ffffff\" fill-rule=\"evenodd\" fill-opacity=\"1\"/>\n",
       "<defs>\n",
       "  <clipPath id=\"clip361\">\n",
       "    <rect x=\"480\" y=\"0\" width=\"1681\" height=\"1600\"/>\n",
       "  </clipPath>\n",
       "</defs>\n",
       "<path clip-path=\"url(#clip360)\" d=\"\n",
       "M148.334 1486.45 L2352.76 1486.45 L2352.76 47.2441 L148.334 47.2441  Z\n",
       "  \" fill=\"#ffffff\" fill-rule=\"evenodd\" fill-opacity=\"1\"/>\n",
       "<defs>\n",
       "  <clipPath id=\"clip362\">\n",
       "    <rect x=\"148\" y=\"47\" width=\"2205\" height=\"1440\"/>\n",
       "  </clipPath>\n",
       "</defs>\n",
       "<polyline clip-path=\"url(#clip362)\" style=\"stroke:#000000; stroke-width:2; stroke-opacity:0.1; fill:none\" points=\"\n",
       "  648.543,1486.45 648.543,47.2441 \n",
       "  \"/>\n",
       "<polyline clip-path=\"url(#clip362)\" style=\"stroke:#000000; stroke-width:2; stroke-opacity:0.1; fill:none\" points=\"\n",
       "  1195.82,1486.45 1195.82,47.2441 \n",
       "  \"/>\n",
       "<polyline clip-path=\"url(#clip362)\" style=\"stroke:#000000; stroke-width:2; stroke-opacity:0.1; fill:none\" points=\"\n",
       "  1743.09,1486.45 1743.09,47.2441 \n",
       "  \"/>\n",
       "<polyline clip-path=\"url(#clip362)\" style=\"stroke:#000000; stroke-width:2; stroke-opacity:0.1; fill:none\" points=\"\n",
       "  2290.37,1486.45 2290.37,47.2441 \n",
       "  \"/>\n",
       "<polyline clip-path=\"url(#clip362)\" style=\"stroke:#000000; stroke-width:2; stroke-opacity:0.1; fill:none\" points=\"\n",
       "  148.334,1271.29 2352.76,1271.29 \n",
       "  \"/>\n",
       "<polyline clip-path=\"url(#clip362)\" style=\"stroke:#000000; stroke-width:2; stroke-opacity:0.1; fill:none\" points=\"\n",
       "  148.334,922.451 2352.76,922.451 \n",
       "  \"/>\n",
       "<polyline clip-path=\"url(#clip362)\" style=\"stroke:#000000; stroke-width:2; stroke-opacity:0.1; fill:none\" points=\"\n",
       "  148.334,573.607 2352.76,573.607 \n",
       "  \"/>\n",
       "<polyline clip-path=\"url(#clip362)\" style=\"stroke:#000000; stroke-width:2; stroke-opacity:0.1; fill:none\" points=\"\n",
       "  148.334,224.764 2352.76,224.764 \n",
       "  \"/>\n",
       "<polyline clip-path=\"url(#clip360)\" style=\"stroke:#000000; stroke-width:4; stroke-opacity:1; fill:none\" points=\"\n",
       "  148.334,1486.45 2352.76,1486.45 \n",
       "  \"/>\n",
       "<polyline clip-path=\"url(#clip360)\" style=\"stroke:#000000; stroke-width:4; stroke-opacity:1; fill:none\" points=\"\n",
       "  148.334,1486.45 148.334,47.2441 \n",
       "  \"/>\n",
       "<polyline clip-path=\"url(#clip360)\" style=\"stroke:#000000; stroke-width:4; stroke-opacity:1; fill:none\" points=\"\n",
       "  648.543,1486.45 648.543,1469.18 \n",
       "  \"/>\n",
       "<polyline clip-path=\"url(#clip360)\" style=\"stroke:#000000; stroke-width:4; stroke-opacity:1; fill:none\" points=\"\n",
       "  1195.82,1486.45 1195.82,1469.18 \n",
       "  \"/>\n",
       "<polyline clip-path=\"url(#clip360)\" style=\"stroke:#000000; stroke-width:4; stroke-opacity:1; fill:none\" points=\"\n",
       "  1743.09,1486.45 1743.09,1469.18 \n",
       "  \"/>\n",
       "<polyline clip-path=\"url(#clip360)\" style=\"stroke:#000000; stroke-width:4; stroke-opacity:1; fill:none\" points=\"\n",
       "  2290.37,1486.45 2290.37,1469.18 \n",
       "  \"/>\n",
       "<polyline clip-path=\"url(#clip360)\" style=\"stroke:#000000; stroke-width:4; stroke-opacity:1; fill:none\" points=\"\n",
       "  148.334,1271.29 174.787,1271.29 \n",
       "  \"/>\n",
       "<polyline clip-path=\"url(#clip360)\" style=\"stroke:#000000; stroke-width:4; stroke-opacity:1; fill:none\" points=\"\n",
       "  148.334,922.451 174.787,922.451 \n",
       "  \"/>\n",
       "<polyline clip-path=\"url(#clip360)\" style=\"stroke:#000000; stroke-width:4; stroke-opacity:1; fill:none\" points=\"\n",
       "  148.334,573.607 174.787,573.607 \n",
       "  \"/>\n",
       "<polyline clip-path=\"url(#clip360)\" style=\"stroke:#000000; stroke-width:4; stroke-opacity:1; fill:none\" points=\"\n",
       "  148.334,224.764 174.787,224.764 \n",
       "  \"/>\n",
       "<path clip-path=\"url(#clip360)\" d=\"M 0 0 M638.821 1505.36 L657.177 1505.36 L657.177 1509.3 L643.103 1509.3 L643.103 1517.77 Q644.122 1517.42 645.14 1517.26 Q646.159 1517.07 647.178 1517.07 Q652.965 1517.07 656.344 1520.24 Q659.724 1523.42 659.724 1528.83 Q659.724 1534.41 656.252 1537.51 Q652.779 1540.59 646.46 1540.59 Q644.284 1540.59 642.016 1540.22 Q639.77 1539.85 637.363 1539.11 L637.363 1534.41 Q639.446 1535.54 641.668 1536.1 Q643.89 1536.66 646.367 1536.66 Q650.372 1536.66 652.71 1534.55 Q655.048 1532.44 655.048 1528.83 Q655.048 1525.22 652.71 1523.11 Q650.372 1521.01 646.367 1521.01 Q644.492 1521.01 642.617 1521.42 Q640.766 1521.84 638.821 1522.72 L638.821 1505.36 Z\" fill=\"#000000\" fill-rule=\"evenodd\" fill-opacity=\"1\" /><path clip-path=\"url(#clip360)\" d=\"M 0 0 M1172.69 1535.98 L1180.33 1535.98 L1180.33 1509.62 L1172.02 1511.29 L1172.02 1507.03 L1180.29 1505.36 L1184.96 1505.36 L1184.96 1535.98 L1192.6 1535.98 L1192.6 1539.92 L1172.69 1539.92 L1172.69 1535.98 Z\" fill=\"#000000\" fill-rule=\"evenodd\" fill-opacity=\"1\" /><path clip-path=\"url(#clip360)\" d=\"M 0 0 M1207.67 1508.44 Q1204.06 1508.44 1202.23 1512 Q1200.42 1515.55 1200.42 1522.67 Q1200.42 1529.78 1202.23 1533.35 Q1204.06 1536.89 1207.67 1536.89 Q1211.3 1536.89 1213.11 1533.35 Q1214.94 1529.78 1214.94 1522.67 Q1214.94 1515.55 1213.11 1512 Q1211.3 1508.44 1207.67 1508.44 M1207.67 1504.73 Q1213.48 1504.73 1216.54 1509.34 Q1219.61 1513.92 1219.61 1522.67 Q1219.61 1531.4 1216.54 1536.01 Q1213.48 1540.59 1207.67 1540.59 Q1201.86 1540.59 1198.78 1536.01 Q1195.73 1531.4 1195.73 1522.67 Q1195.73 1513.92 1198.78 1509.34 Q1201.86 1504.73 1207.67 1504.73 Z\" fill=\"#000000\" fill-rule=\"evenodd\" fill-opacity=\"1\" /><path clip-path=\"url(#clip360)\" d=\"M 0 0 M1720.46 1535.98 L1728.1 1535.98 L1728.1 1509.62 L1719.79 1511.29 L1719.79 1507.03 L1728.06 1505.36 L1732.73 1505.36 L1732.73 1535.98 L1740.37 1535.98 L1740.37 1539.92 L1720.46 1539.92 L1720.46 1535.98 Z\" fill=\"#000000\" fill-rule=\"evenodd\" fill-opacity=\"1\" /><path clip-path=\"url(#clip360)\" d=\"M 0 0 M1745.49 1505.36 L1763.84 1505.36 L1763.84 1509.3 L1749.77 1509.3 L1749.77 1517.77 Q1750.79 1517.42 1751.81 1517.26 Q1752.83 1517.07 1753.84 1517.07 Q1759.63 1517.07 1763.01 1520.24 Q1766.39 1523.42 1766.39 1528.83 Q1766.39 1534.41 1762.92 1537.51 Q1759.45 1540.59 1753.13 1540.59 Q1750.95 1540.59 1748.68 1540.22 Q1746.44 1539.85 1744.03 1539.11 L1744.03 1534.41 Q1746.11 1535.54 1748.34 1536.1 Q1750.56 1536.66 1753.03 1536.66 Q1757.04 1536.66 1759.38 1534.55 Q1761.71 1532.44 1761.71 1528.83 Q1761.71 1525.22 1759.38 1523.11 Q1757.04 1521.01 1753.03 1521.01 Q1751.16 1521.01 1749.28 1521.42 Q1747.43 1521.84 1745.49 1522.72 L1745.49 1505.36 Z\" fill=\"#000000\" fill-rule=\"evenodd\" fill-opacity=\"1\" /><path clip-path=\"url(#clip360)\" d=\"M 0 0 M2271.51 1535.98 L2287.83 1535.98 L2287.83 1539.92 L2265.89 1539.92 L2265.89 1535.98 Q2268.55 1533.23 2273.13 1528.6 Q2277.74 1523.95 2278.92 1522.61 Q2281.17 1520.08 2282.04 1518.35 Q2282.95 1516.59 2282.95 1514.9 Q2282.95 1512.14 2281 1510.41 Q2279.08 1508.67 2275.98 1508.67 Q2273.78 1508.67 2271.33 1509.43 Q2268.9 1510.2 2266.12 1511.75 L2266.12 1507.03 Q2268.94 1505.89 2271.4 1505.31 Q2273.85 1504.73 2275.89 1504.73 Q2281.26 1504.73 2284.45 1507.42 Q2287.65 1510.11 2287.65 1514.6 Q2287.65 1516.73 2286.84 1518.65 Q2286.05 1520.54 2283.94 1523.14 Q2283.36 1523.81 2280.26 1527.03 Q2277.16 1530.22 2271.51 1535.98 Z\" fill=\"#000000\" fill-rule=\"evenodd\" fill-opacity=\"1\" /><path clip-path=\"url(#clip360)\" d=\"M 0 0 M2302.9 1508.44 Q2299.29 1508.44 2297.46 1512 Q2295.66 1515.55 2295.66 1522.67 Q2295.66 1529.78 2297.46 1533.35 Q2299.29 1536.89 2302.9 1536.89 Q2306.54 1536.89 2308.34 1533.35 Q2310.17 1529.78 2310.17 1522.67 Q2310.17 1515.55 2308.34 1512 Q2306.54 1508.44 2302.9 1508.44 M2302.9 1504.73 Q2308.71 1504.73 2311.77 1509.34 Q2314.85 1513.92 2314.85 1522.67 Q2314.85 1531.4 2311.77 1536.01 Q2308.71 1540.59 2302.9 1540.59 Q2297.09 1540.59 2294.01 1536.01 Q2290.96 1531.4 2290.96 1522.67 Q2290.96 1513.92 2294.01 1509.34 Q2297.09 1504.73 2302.9 1504.73 Z\" fill=\"#000000\" fill-rule=\"evenodd\" fill-opacity=\"1\" /><path clip-path=\"url(#clip360)\" d=\"M 0 0 M77.0198 1257.09 Q73.4087 1257.09 71.58 1260.66 Q69.7745 1264.2 69.7745 1271.33 Q69.7745 1278.44 71.58 1282 Q73.4087 1285.54 77.0198 1285.54 Q80.6541 1285.54 82.4596 1282 Q84.2883 1278.44 84.2883 1271.33 Q84.2883 1264.2 82.4596 1260.66 Q80.6541 1257.09 77.0198 1257.09 M77.0198 1253.39 Q82.83 1253.39 85.8855 1258 Q88.9642 1262.58 88.9642 1271.33 Q88.9642 1280.06 85.8855 1284.66 Q82.83 1289.25 77.0198 1289.25 Q71.2097 1289.25 68.131 1284.66 Q65.0754 1280.06 65.0754 1271.33 Q65.0754 1262.58 68.131 1258 Q71.2097 1253.39 77.0198 1253.39 Z\" fill=\"#000000\" fill-rule=\"evenodd\" fill-opacity=\"1\" /><path clip-path=\"url(#clip360)\" d=\"M 0 0 M94.0336 1282.69 L98.9179 1282.69 L98.9179 1288.57 L94.0336 1288.57 L94.0336 1282.69 Z\" fill=\"#000000\" fill-rule=\"evenodd\" fill-opacity=\"1\" /><path clip-path=\"url(#clip360)\" d=\"M 0 0 M108.015 1284.64 L124.334 1284.64 L124.334 1288.57 L102.39 1288.57 L102.39 1284.64 Q105.052 1281.88 109.635 1277.25 Q114.242 1272.6 115.422 1271.26 Q117.668 1268.74 118.547 1267 Q119.45 1265.24 119.45 1263.55 Q119.45 1260.8 117.506 1259.06 Q115.584 1257.32 112.483 1257.32 Q110.284 1257.32 107.83 1258.09 Q105.399 1258.85 102.622 1260.4 L102.622 1255.68 Q105.446 1254.55 107.899 1253.97 Q110.353 1253.39 112.39 1253.39 Q117.76 1253.39 120.955 1256.07 Q124.149 1258.76 124.149 1263.25 Q124.149 1265.38 123.339 1267.3 Q122.552 1269.2 120.446 1271.79 Q119.867 1272.46 116.765 1275.68 Q113.663 1278.87 108.015 1284.64 Z\" fill=\"#000000\" fill-rule=\"evenodd\" fill-opacity=\"1\" /><path clip-path=\"url(#clip360)\" d=\"M 0 0 M74.9365 908.249 Q71.3254 908.249 69.4967 911.814 Q67.6912 915.356 67.6912 922.485 Q67.6912 929.592 69.4967 933.156 Q71.3254 936.698 74.9365 936.698 Q78.5707 936.698 80.3763 933.156 Q82.205 929.592 82.205 922.485 Q82.205 915.356 80.3763 911.814 Q78.5707 908.249 74.9365 908.249 M74.9365 904.546 Q80.7467 904.546 83.8022 909.152 Q86.8809 913.735 86.8809 922.485 Q86.8809 931.212 83.8022 935.819 Q80.7467 940.402 74.9365 940.402 Q69.1264 940.402 66.0477 935.819 Q62.9921 931.212 62.9921 922.485 Q62.9921 913.735 66.0477 909.152 Q69.1264 904.546 74.9365 904.546 Z\" fill=\"#000000\" fill-rule=\"evenodd\" fill-opacity=\"1\" /><path clip-path=\"url(#clip360)\" d=\"M 0 0 M91.9503 933.851 L96.8345 933.851 L96.8345 939.731 L91.9503 939.731 L91.9503 933.851 Z\" fill=\"#000000\" fill-rule=\"evenodd\" fill-opacity=\"1\" /><path clip-path=\"url(#clip360)\" d=\"M 0 0 M114.751 909.245 L102.946 927.694 L114.751 927.694 L114.751 909.245 M113.524 905.171 L119.404 905.171 L119.404 927.694 L124.334 927.694 L124.334 931.582 L119.404 931.582 L119.404 939.731 L114.751 939.731 L114.751 931.582 L99.1493 931.582 L99.1493 927.069 L113.524 905.171 Z\" fill=\"#000000\" fill-rule=\"evenodd\" fill-opacity=\"1\" /><path clip-path=\"url(#clip360)\" d=\"M 0 0 M75.2606 559.406 Q71.6495 559.406 69.8208 562.971 Q68.0152 566.512 68.0152 573.642 Q68.0152 580.748 69.8208 584.313 Q71.6495 587.855 75.2606 587.855 Q78.8948 587.855 80.7004 584.313 Q82.5291 580.748 82.5291 573.642 Q82.5291 566.512 80.7004 562.971 Q78.8948 559.406 75.2606 559.406 M75.2606 555.702 Q81.0707 555.702 84.1263 560.309 Q87.205 564.892 87.205 573.642 Q87.205 582.369 84.1263 586.975 Q81.0707 591.558 75.2606 591.558 Q69.4504 591.558 66.3717 586.975 Q63.3162 582.369 63.3162 573.642 Q63.3162 564.892 66.3717 560.309 Q69.4504 555.702 75.2606 555.702 Z\" fill=\"#000000\" fill-rule=\"evenodd\" fill-opacity=\"1\" /><path clip-path=\"url(#clip360)\" d=\"M 0 0 M92.2744 585.007 L97.1586 585.007 L97.1586 590.887 L92.2744 590.887 L92.2744 585.007 Z\" fill=\"#000000\" fill-rule=\"evenodd\" fill-opacity=\"1\" /><path clip-path=\"url(#clip360)\" d=\"M 0 0 M112.807 571.744 Q109.659 571.744 107.807 573.896 Q105.978 576.049 105.978 579.799 Q105.978 583.526 107.807 585.702 Q109.659 587.855 112.807 587.855 Q115.955 587.855 117.783 585.702 Q119.635 583.526 119.635 579.799 Q119.635 576.049 117.783 573.896 Q115.955 571.744 112.807 571.744 M122.089 557.091 L122.089 561.35 Q120.33 560.517 118.524 560.077 Q116.742 559.637 114.983 559.637 Q110.353 559.637 107.899 562.762 Q105.469 565.887 105.122 572.207 Q106.487 570.193 108.547 569.128 Q110.608 568.04 113.084 568.04 Q118.293 568.04 121.302 571.211 Q124.334 574.359 124.334 579.799 Q124.334 585.123 121.186 588.341 Q118.038 591.558 112.807 591.558 Q106.811 591.558 103.64 586.975 Q100.469 582.369 100.469 573.642 Q100.469 565.447 104.358 560.586 Q108.247 555.702 114.797 555.702 Q116.557 555.702 118.339 556.049 Q120.145 556.397 122.089 557.091 Z\" fill=\"#000000\" fill-rule=\"evenodd\" fill-opacity=\"1\" /><path clip-path=\"url(#clip360)\" d=\"M 0 0 M75.5152 210.562 Q71.9041 210.562 70.0754 214.127 Q68.2699 217.669 68.2699 224.798 Q68.2699 231.905 70.0754 235.47 Q71.9041 239.011 75.5152 239.011 Q79.1494 239.011 80.955 235.47 Q82.7837 231.905 82.7837 224.798 Q82.7837 217.669 80.955 214.127 Q79.1494 210.562 75.5152 210.562 M75.5152 206.859 Q81.3254 206.859 84.3809 211.465 Q87.4596 216.048 87.4596 224.798 Q87.4596 233.525 84.3809 238.132 Q81.3254 242.715 75.5152 242.715 Q69.7051 242.715 66.6264 238.132 Q63.5708 233.525 63.5708 224.798 Q63.5708 216.048 66.6264 211.465 Q69.7051 206.859 75.5152 206.859 Z\" fill=\"#000000\" fill-rule=\"evenodd\" fill-opacity=\"1\" /><path clip-path=\"url(#clip360)\" d=\"M 0 0 M92.529 236.164 L97.4132 236.164 L97.4132 242.044 L92.529 242.044 L92.529 236.164 Z\" fill=\"#000000\" fill-rule=\"evenodd\" fill-opacity=\"1\" /><path clip-path=\"url(#clip360)\" d=\"M 0 0 M112.483 225.632 Q109.149 225.632 107.228 227.414 Q105.33 229.196 105.33 232.321 Q105.33 235.446 107.228 237.229 Q109.149 239.011 112.483 239.011 Q115.816 239.011 117.737 237.229 Q119.658 235.423 119.658 232.321 Q119.658 229.196 117.737 227.414 Q115.839 225.632 112.483 225.632 M107.807 223.641 Q104.797 222.9 103.108 220.84 Q101.441 218.78 101.441 215.817 Q101.441 211.673 104.381 209.266 Q107.344 206.859 112.483 206.859 Q117.645 206.859 120.584 209.266 Q123.524 211.673 123.524 215.817 Q123.524 218.78 121.834 220.84 Q120.168 222.9 117.182 223.641 Q120.561 224.428 122.436 226.72 Q124.334 229.011 124.334 232.321 Q124.334 237.345 121.256 240.03 Q118.2 242.715 112.483 242.715 Q106.765 242.715 103.686 240.03 Q100.631 237.345 100.631 232.321 Q100.631 229.011 102.529 226.72 Q104.427 224.428 107.807 223.641 M106.094 216.257 Q106.094 218.942 107.76 220.447 Q109.45 221.951 112.483 221.951 Q115.492 221.951 117.182 220.447 Q118.895 218.942 118.895 216.257 Q118.895 213.572 117.182 212.067 Q115.492 210.562 112.483 210.562 Q109.45 210.562 107.76 212.067 Q106.094 213.572 106.094 216.257 Z\" fill=\"#000000\" fill-rule=\"evenodd\" fill-opacity=\"1\" /><polyline clip-path=\"url(#clip362)\" style=\"stroke:#009af9; stroke-width:4; stroke-opacity:1; fill:none\" points=\"\n",
       "  210.724,1445.72 320.179,1288.74 429.633,1147.45 539.088,1020.3 648.543,905.863 757.998,802.869 867.453,710.174 976.908,626.749 1086.36,551.666 1195.82,484.091 \n",
       "  1305.27,423.274 1414.73,368.539 1524.18,319.277 1633.64,274.941 1743.09,235.039 1852.55,199.127 1962,166.806 2071.46,137.718 2180.91,111.538 2290.37,87.9763 \n",
       "  \n",
       "  \"/>\n",
       "<path clip-path=\"url(#clip362)\" d=\"M210.724 1461.72 L199.412 1457.03 L194.724 1445.72 L199.412 1434.4 L210.724 1429.72 L222.036 1434.4 L226.724 1445.72 L222.036 1457.03 Z\" fill=\"#009af9\" fill-rule=\"evenodd\" fill-opacity=\"1\" stroke=\"#000000\" stroke-opacity=\"1\" stroke-width=\"3.2\"/>\n",
       "<path clip-path=\"url(#clip362)\" d=\"M320.179 1304.74 L308.867 1300.05 L304.179 1288.74 L308.867 1277.42 L320.179 1272.74 L331.491 1277.42 L336.179 1288.74 L331.491 1300.05 Z\" fill=\"#009af9\" fill-rule=\"evenodd\" fill-opacity=\"1\" stroke=\"#000000\" stroke-opacity=\"1\" stroke-width=\"3.2\"/>\n",
       "<path clip-path=\"url(#clip362)\" d=\"M429.633 1163.45 L418.321 1158.77 L413.633 1147.45 L418.321 1136.14 L429.633 1131.45 L440.945 1136.14 L445.633 1147.45 L440.945 1158.77 Z\" fill=\"#009af9\" fill-rule=\"evenodd\" fill-opacity=\"1\" stroke=\"#000000\" stroke-opacity=\"1\" stroke-width=\"3.2\"/>\n",
       "<path clip-path=\"url(#clip362)\" d=\"M539.088 1036.3 L527.776 1031.61 L523.088 1020.3 L527.776 1008.99 L539.088 1004.3 L550.4 1008.99 L555.088 1020.3 L550.4 1031.61 Z\" fill=\"#009af9\" fill-rule=\"evenodd\" fill-opacity=\"1\" stroke=\"#000000\" stroke-opacity=\"1\" stroke-width=\"3.2\"/>\n",
       "<path clip-path=\"url(#clip362)\" d=\"M648.543 921.863 L637.231 917.175 L632.543 905.863 L637.231 894.551 L648.543 889.863 L659.855 894.551 L664.543 905.863 L659.855 917.175 Z\" fill=\"#009af9\" fill-rule=\"evenodd\" fill-opacity=\"1\" stroke=\"#000000\" stroke-opacity=\"1\" stroke-width=\"3.2\"/>\n",
       "<path clip-path=\"url(#clip362)\" d=\"M757.998 818.869 L746.686 814.181 L741.998 802.869 L746.686 791.557 L757.998 786.869 L769.31 791.557 L773.998 802.869 L769.31 814.181 Z\" fill=\"#009af9\" fill-rule=\"evenodd\" fill-opacity=\"1\" stroke=\"#000000\" stroke-opacity=\"1\" stroke-width=\"3.2\"/>\n",
       "<path clip-path=\"url(#clip362)\" d=\"M867.453 726.174 L856.141 721.486 L851.453 710.174 L856.141 698.862 L867.453 694.174 L878.765 698.862 L883.453 710.174 L878.765 721.486 Z\" fill=\"#009af9\" fill-rule=\"evenodd\" fill-opacity=\"1\" stroke=\"#000000\" stroke-opacity=\"1\" stroke-width=\"3.2\"/>\n",
       "<path clip-path=\"url(#clip362)\" d=\"M976.908 642.749 L965.596 638.061 L960.908 626.749 L965.596 615.437 L976.908 610.749 L988.22 615.437 L992.908 626.749 L988.22 638.061 Z\" fill=\"#009af9\" fill-rule=\"evenodd\" fill-opacity=\"1\" stroke=\"#000000\" stroke-opacity=\"1\" stroke-width=\"3.2\"/>\n",
       "<path clip-path=\"url(#clip362)\" d=\"M1086.36 567.666 L1075.05 562.978 L1070.36 551.666 L1075.05 540.354 L1086.36 535.666 L1097.67 540.354 L1102.36 551.666 L1097.67 562.978 Z\" fill=\"#009af9\" fill-rule=\"evenodd\" fill-opacity=\"1\" stroke=\"#000000\" stroke-opacity=\"1\" stroke-width=\"3.2\"/>\n",
       "<path clip-path=\"url(#clip362)\" d=\"M1195.82 500.091 L1184.51 495.403 L1179.82 484.091 L1184.51 472.779 L1195.82 468.091 L1207.13 472.779 L1211.82 484.091 L1207.13 495.403 Z\" fill=\"#009af9\" fill-rule=\"evenodd\" fill-opacity=\"1\" stroke=\"#000000\" stroke-opacity=\"1\" stroke-width=\"3.2\"/>\n",
       "<path clip-path=\"url(#clip362)\" d=\"M1305.27 439.274 L1293.96 434.586 L1289.27 423.274 L1293.96 411.962 L1305.27 407.274 L1316.58 411.962 L1321.27 423.274 L1316.58 434.586 Z\" fill=\"#009af9\" fill-rule=\"evenodd\" fill-opacity=\"1\" stroke=\"#000000\" stroke-opacity=\"1\" stroke-width=\"3.2\"/>\n",
       "<path clip-path=\"url(#clip362)\" d=\"M1414.73 384.539 L1403.42 379.851 L1398.73 368.539 L1403.42 357.227 L1414.73 352.539 L1426.04 357.227 L1430.73 368.539 L1426.04 379.851 Z\" fill=\"#009af9\" fill-rule=\"evenodd\" fill-opacity=\"1\" stroke=\"#000000\" stroke-opacity=\"1\" stroke-width=\"3.2\"/>\n",
       "<path clip-path=\"url(#clip362)\" d=\"M1524.18 335.277 L1512.87 330.589 L1508.18 319.277 L1512.87 307.965 L1524.18 303.277 L1535.49 307.965 L1540.18 319.277 L1535.49 330.589 Z\" fill=\"#009af9\" fill-rule=\"evenodd\" fill-opacity=\"1\" stroke=\"#000000\" stroke-opacity=\"1\" stroke-width=\"3.2\"/>\n",
       "<path clip-path=\"url(#clip362)\" d=\"M1633.64 290.941 L1622.33 286.253 L1617.64 274.941 L1622.33 263.629 L1633.64 258.941 L1644.95 263.629 L1649.64 274.941 L1644.95 286.253 Z\" fill=\"#009af9\" fill-rule=\"evenodd\" fill-opacity=\"1\" stroke=\"#000000\" stroke-opacity=\"1\" stroke-width=\"3.2\"/>\n",
       "<path clip-path=\"url(#clip362)\" d=\"M1743.09 251.039 L1731.78 246.351 L1727.09 235.039 L1731.78 223.727 L1743.09 219.039 L1754.4 223.727 L1759.09 235.039 L1754.4 246.351 Z\" fill=\"#009af9\" fill-rule=\"evenodd\" fill-opacity=\"1\" stroke=\"#000000\" stroke-opacity=\"1\" stroke-width=\"3.2\"/>\n",
       "<path clip-path=\"url(#clip362)\" d=\"M1852.55 215.127 L1841.24 210.439 L1836.55 199.127 L1841.24 187.815 L1852.55 183.127 L1863.86 187.815 L1868.55 199.127 L1863.86 210.439 Z\" fill=\"#009af9\" fill-rule=\"evenodd\" fill-opacity=\"1\" stroke=\"#000000\" stroke-opacity=\"1\" stroke-width=\"3.2\"/>\n",
       "<path clip-path=\"url(#clip362)\" d=\"M1962 182.806 L1950.69 178.118 L1946 166.806 L1950.69 155.494 L1962 150.806 L1973.31 155.494 L1978 166.806 L1973.31 178.118 Z\" fill=\"#009af9\" fill-rule=\"evenodd\" fill-opacity=\"1\" stroke=\"#000000\" stroke-opacity=\"1\" stroke-width=\"3.2\"/>\n",
       "<path clip-path=\"url(#clip362)\" d=\"M2071.46 153.718 L2060.14 149.03 L2055.46 137.718 L2060.14 126.406 L2071.46 121.718 L2082.77 126.406 L2087.46 137.718 L2082.77 149.03 Z\" fill=\"#009af9\" fill-rule=\"evenodd\" fill-opacity=\"1\" stroke=\"#000000\" stroke-opacity=\"1\" stroke-width=\"3.2\"/>\n",
       "<path clip-path=\"url(#clip362)\" d=\"M2180.91 127.538 L2169.6 122.85 L2164.91 111.538 L2169.6 100.226 L2180.91 95.5381 L2192.22 100.226 L2196.91 111.538 L2192.22 122.85 Z\" fill=\"#009af9\" fill-rule=\"evenodd\" fill-opacity=\"1\" stroke=\"#000000\" stroke-opacity=\"1\" stroke-width=\"3.2\"/>\n",
       "<path clip-path=\"url(#clip362)\" d=\"M2290.37 103.976 L2279.05 99.2883 L2274.37 87.9763 L2279.05 76.6643 L2290.37 71.9763 L2301.68 76.6643 L2306.37 87.9763 L2301.68 99.2883 Z\" fill=\"#009af9\" fill-rule=\"evenodd\" fill-opacity=\"1\" stroke=\"#000000\" stroke-opacity=\"1\" stroke-width=\"3.2\"/>\n",
       "</svg>\n"
      ]
     },
     "execution_count": 40,
     "metadata": {},
     "output_type": "execute_result"
    }
   ],
   "source": [
    "plot(s, m=:o, leg=:false)"
   ]
  },
  {
   "cell_type": "markdown",
   "metadata": {},
   "source": [
    "The line is not quite right; at time 6.5 for example, the cumulative probability of recovery is the same as at time 6."
   ]
  },
  {
   "cell_type": "code",
   "execution_count": 36,
   "metadata": {},
   "outputs": [
    {
     "data": {
      "text/plain": [
       "41-element Array{Float64,1}:\n",
       " 0.0\n",
       " 0.0\n",
       " 0.1\n",
       " 0.1\n",
       " 0.19\n",
       " 0.19\n",
       " 0.271\n",
       " 0.271\n",
       " 0.3439000000000001\n",
       " 0.3439000000000001\n",
       " 0.40951000000000004\n",
       " 0.40951000000000004\n",
       " 0.46855900000000006\n",
       " ⋮\n",
       " 0.7712320754503903\n",
       " 0.7941088679053513\n",
       " 0.7941088679053513\n",
       " 0.8146979811148162\n",
       " 0.8146979811148162\n",
       " 0.8332281830033346\n",
       " 0.8332281830033346\n",
       " 0.8499053647030012\n",
       " 0.8499053647030012\n",
       " 0.864914828232701\n",
       " 0.864914828232701\n",
       " 0.878423345409431"
      ]
     },
     "execution_count": 36,
     "metadata": {},
     "output_type": "execute_result"
    }
   ],
   "source": [
    "ys = [[0, 0]; reduce(vcat, [[s[n], s[n]] for n in 1:20])]\n",
    "pop!(ys)\n",
    "ys"
   ]
  },
  {
   "cell_type": "code",
   "execution_count": 37,
   "metadata": {},
   "outputs": [
    {
     "data": {
      "text/plain": [
       "41-element Array{Int64,1}:\n",
       "  0\n",
       "  1\n",
       "  1\n",
       "  2\n",
       "  2\n",
       "  3\n",
       "  3\n",
       "  4\n",
       "  4\n",
       "  5\n",
       "  5\n",
       "  6\n",
       "  6\n",
       "  ⋮\n",
       " 15\n",
       " 15\n",
       " 16\n",
       " 16\n",
       " 17\n",
       " 17\n",
       " 18\n",
       " 18\n",
       " 19\n",
       " 19\n",
       " 20\n",
       " 20"
      ]
     },
     "execution_count": 37,
     "metadata": {},
     "output_type": "execute_result"
    }
   ],
   "source": [
    "xs = [0; reduce(vcat, [ [n, n] for n in 1:20])]"
   ]
  },
  {
   "cell_type": "code",
   "execution_count": 43,
   "metadata": {},
   "outputs": [
    {
     "data": {
      "image/svg+xml": [
       "<?xml version=\"1.0\" encoding=\"utf-8\"?>\n",
       "<svg xmlns=\"http://www.w3.org/2000/svg\" xmlns:xlink=\"http://www.w3.org/1999/xlink\" width=\"600\" height=\"400\" viewBox=\"0 0 2400 1600\">\n",
       "<defs>\n",
       "  <clipPath id=\"clip400\">\n",
       "    <rect x=\"0\" y=\"0\" width=\"2400\" height=\"1600\"/>\n",
       "  </clipPath>\n",
       "</defs>\n",
       "<path clip-path=\"url(#clip400)\" d=\"\n",
       "M0 1600 L2400 1600 L2400 0 L0 0  Z\n",
       "  \" fill=\"#ffffff\" fill-rule=\"evenodd\" fill-opacity=\"1\"/>\n",
       "<defs>\n",
       "  <clipPath id=\"clip401\">\n",
       "    <rect x=\"480\" y=\"0\" width=\"1681\" height=\"1600\"/>\n",
       "  </clipPath>\n",
       "</defs>\n",
       "<path clip-path=\"url(#clip400)\" d=\"\n",
       "M211.602 1423.18 L2352.76 1423.18 L2352.76 47.2441 L211.602 47.2441  Z\n",
       "  \" fill=\"#ffffff\" fill-rule=\"evenodd\" fill-opacity=\"1\"/>\n",
       "<defs>\n",
       "  <clipPath id=\"clip402\">\n",
       "    <rect x=\"211\" y=\"47\" width=\"2142\" height=\"1377\"/>\n",
       "  </clipPath>\n",
       "</defs>\n",
       "<polyline clip-path=\"url(#clip402)\" style=\"stroke:#000000; stroke-width:2; stroke-opacity:0.1; fill:none\" points=\"\n",
       "  272.201,1423.18 272.201,47.2441 \n",
       "  \"/>\n",
       "<polyline clip-path=\"url(#clip402)\" style=\"stroke:#000000; stroke-width:2; stroke-opacity:0.1; fill:none\" points=\"\n",
       "  777.19,1423.18 777.19,47.2441 \n",
       "  \"/>\n",
       "<polyline clip-path=\"url(#clip402)\" style=\"stroke:#000000; stroke-width:2; stroke-opacity:0.1; fill:none\" points=\"\n",
       "  1282.18,1423.18 1282.18,47.2441 \n",
       "  \"/>\n",
       "<polyline clip-path=\"url(#clip402)\" style=\"stroke:#000000; stroke-width:2; stroke-opacity:0.1; fill:none\" points=\"\n",
       "  1787.17,1423.18 1787.17,47.2441 \n",
       "  \"/>\n",
       "<polyline clip-path=\"url(#clip402)\" style=\"stroke:#000000; stroke-width:2; stroke-opacity:0.1; fill:none\" points=\"\n",
       "  2292.16,1423.18 2292.16,47.2441 \n",
       "  \"/>\n",
       "<polyline clip-path=\"url(#clip402)\" style=\"stroke:#000000; stroke-width:2; stroke-opacity:0.1; fill:none\" points=\"\n",
       "  211.602,1384.24 2352.76,1384.24 \n",
       "  \"/>\n",
       "<polyline clip-path=\"url(#clip402)\" style=\"stroke:#000000; stroke-width:2; stroke-opacity:0.1; fill:none\" points=\"\n",
       "  211.602,1088.7 2352.76,1088.7 \n",
       "  \"/>\n",
       "<polyline clip-path=\"url(#clip402)\" style=\"stroke:#000000; stroke-width:2; stroke-opacity:0.1; fill:none\" points=\"\n",
       "  211.602,793.155 2352.76,793.155 \n",
       "  \"/>\n",
       "<polyline clip-path=\"url(#clip402)\" style=\"stroke:#000000; stroke-width:2; stroke-opacity:0.1; fill:none\" points=\"\n",
       "  211.602,497.614 2352.76,497.614 \n",
       "  \"/>\n",
       "<polyline clip-path=\"url(#clip402)\" style=\"stroke:#000000; stroke-width:2; stroke-opacity:0.1; fill:none\" points=\"\n",
       "  211.602,202.072 2352.76,202.072 \n",
       "  \"/>\n",
       "<polyline clip-path=\"url(#clip400)\" style=\"stroke:#000000; stroke-width:4; stroke-opacity:1; fill:none\" points=\"\n",
       "  211.602,1423.18 2352.76,1423.18 \n",
       "  \"/>\n",
       "<polyline clip-path=\"url(#clip400)\" style=\"stroke:#000000; stroke-width:4; stroke-opacity:1; fill:none\" points=\"\n",
       "  211.602,1423.18 211.602,47.2441 \n",
       "  \"/>\n",
       "<polyline clip-path=\"url(#clip400)\" style=\"stroke:#000000; stroke-width:4; stroke-opacity:1; fill:none\" points=\"\n",
       "  272.201,1423.18 272.201,1406.67 \n",
       "  \"/>\n",
       "<polyline clip-path=\"url(#clip400)\" style=\"stroke:#000000; stroke-width:4; stroke-opacity:1; fill:none\" points=\"\n",
       "  777.19,1423.18 777.19,1406.67 \n",
       "  \"/>\n",
       "<polyline clip-path=\"url(#clip400)\" style=\"stroke:#000000; stroke-width:4; stroke-opacity:1; fill:none\" points=\"\n",
       "  1282.18,1423.18 1282.18,1406.67 \n",
       "  \"/>\n",
       "<polyline clip-path=\"url(#clip400)\" style=\"stroke:#000000; stroke-width:4; stroke-opacity:1; fill:none\" points=\"\n",
       "  1787.17,1423.18 1787.17,1406.67 \n",
       "  \"/>\n",
       "<polyline clip-path=\"url(#clip400)\" style=\"stroke:#000000; stroke-width:4; stroke-opacity:1; fill:none\" points=\"\n",
       "  2292.16,1423.18 2292.16,1406.67 \n",
       "  \"/>\n",
       "<polyline clip-path=\"url(#clip400)\" style=\"stroke:#000000; stroke-width:4; stroke-opacity:1; fill:none\" points=\"\n",
       "  211.602,1384.24 237.296,1384.24 \n",
       "  \"/>\n",
       "<polyline clip-path=\"url(#clip400)\" style=\"stroke:#000000; stroke-width:4; stroke-opacity:1; fill:none\" points=\"\n",
       "  211.602,1088.7 237.296,1088.7 \n",
       "  \"/>\n",
       "<polyline clip-path=\"url(#clip400)\" style=\"stroke:#000000; stroke-width:4; stroke-opacity:1; fill:none\" points=\"\n",
       "  211.602,793.155 237.296,793.155 \n",
       "  \"/>\n",
       "<polyline clip-path=\"url(#clip400)\" style=\"stroke:#000000; stroke-width:4; stroke-opacity:1; fill:none\" points=\"\n",
       "  211.602,497.614 237.296,497.614 \n",
       "  \"/>\n",
       "<polyline clip-path=\"url(#clip400)\" style=\"stroke:#000000; stroke-width:4; stroke-opacity:1; fill:none\" points=\"\n",
       "  211.602,202.072 237.296,202.072 \n",
       "  \"/>\n",
       "<path clip-path=\"url(#clip400)\" d=\"M 0 0 M272.201 1445.17 Q268.59 1445.17 266.761 1448.74 Q264.956 1452.28 264.956 1459.41 Q264.956 1466.51 266.761 1470.08 Q268.59 1473.62 272.201 1473.62 Q275.835 1473.62 277.641 1470.08 Q279.47 1466.51 279.47 1459.41 Q279.47 1452.28 277.641 1448.74 Q275.835 1445.17 272.201 1445.17 M272.201 1441.47 Q278.011 1441.47 281.067 1446.07 Q284.145 1450.66 284.145 1459.41 Q284.145 1468.13 281.067 1472.74 Q278.011 1477.32 272.201 1477.32 Q266.391 1477.32 263.312 1472.74 Q260.257 1468.13 260.257 1459.41 Q260.257 1450.66 263.312 1446.07 Q266.391 1441.47 272.201 1441.47 Z\" fill=\"#000000\" fill-rule=\"evenodd\" fill-opacity=\"1\" /><path clip-path=\"url(#clip400)\" d=\"M 0 0 M767.468 1442.09 L785.824 1442.09 L785.824 1446.03 L771.75 1446.03 L771.75 1454.5 Q772.769 1454.15 773.787 1453.99 Q774.806 1453.8 775.824 1453.8 Q781.611 1453.8 784.991 1456.98 Q788.371 1460.15 788.371 1465.56 Q788.371 1471.14 784.898 1474.24 Q781.426 1477.32 775.107 1477.32 Q772.931 1477.32 770.662 1476.95 Q768.417 1476.58 766.01 1475.84 L766.01 1471.14 Q768.093 1472.28 770.315 1472.83 Q772.537 1473.39 775.014 1473.39 Q779.019 1473.39 781.357 1471.28 Q783.695 1469.18 783.695 1465.56 Q783.695 1461.95 781.357 1459.85 Q779.019 1457.74 775.014 1457.74 Q773.139 1457.74 771.264 1458.16 Q769.412 1458.57 767.468 1459.45 L767.468 1442.09 Z\" fill=\"#000000\" fill-rule=\"evenodd\" fill-opacity=\"1\" /><path clip-path=\"url(#clip400)\" d=\"M 0 0 M1259.05 1472.72 L1266.69 1472.72 L1266.69 1446.35 L1258.38 1448.02 L1258.38 1443.76 L1266.65 1442.09 L1271.32 1442.09 L1271.32 1472.72 L1278.96 1472.72 L1278.96 1476.65 L1259.05 1476.65 L1259.05 1472.72 Z\" fill=\"#000000\" fill-rule=\"evenodd\" fill-opacity=\"1\" /><path clip-path=\"url(#clip400)\" d=\"M 0 0 M1294.03 1445.17 Q1290.42 1445.17 1288.59 1448.74 Q1286.79 1452.28 1286.79 1459.41 Q1286.79 1466.51 1288.59 1470.08 Q1290.42 1473.62 1294.03 1473.62 Q1297.67 1473.62 1299.47 1470.08 Q1301.3 1466.51 1301.3 1459.41 Q1301.3 1452.28 1299.47 1448.74 Q1297.67 1445.17 1294.03 1445.17 M1294.03 1441.47 Q1299.84 1441.47 1302.9 1446.07 Q1305.98 1450.66 1305.98 1459.41 Q1305.98 1468.13 1302.9 1472.74 Q1299.84 1477.32 1294.03 1477.32 Q1288.22 1477.32 1285.14 1472.74 Q1282.09 1468.13 1282.09 1459.41 Q1282.09 1450.66 1285.14 1446.07 Q1288.22 1441.47 1294.03 1441.47 Z\" fill=\"#000000\" fill-rule=\"evenodd\" fill-opacity=\"1\" /><path clip-path=\"url(#clip400)\" d=\"M 0 0 M1764.54 1472.72 L1772.18 1472.72 L1772.18 1446.35 L1763.87 1448.02 L1763.87 1443.76 L1772.13 1442.09 L1776.81 1442.09 L1776.81 1472.72 L1784.45 1472.72 L1784.45 1476.65 L1764.54 1476.65 L1764.54 1472.72 Z\" fill=\"#000000\" fill-rule=\"evenodd\" fill-opacity=\"1\" /><path clip-path=\"url(#clip400)\" d=\"M 0 0 M1789.56 1442.09 L1807.92 1442.09 L1807.92 1446.03 L1793.85 1446.03 L1793.85 1454.5 Q1794.86 1454.15 1795.88 1453.99 Q1796.9 1453.8 1797.92 1453.8 Q1803.71 1453.8 1807.09 1456.98 Q1810.47 1460.15 1810.47 1465.56 Q1810.47 1471.14 1806.99 1474.24 Q1803.52 1477.32 1797.2 1477.32 Q1795.03 1477.32 1792.76 1476.95 Q1790.51 1476.58 1788.11 1475.84 L1788.11 1471.14 Q1790.19 1472.28 1792.41 1472.83 Q1794.63 1473.39 1797.11 1473.39 Q1801.11 1473.39 1803.45 1471.28 Q1805.79 1469.18 1805.79 1465.56 Q1805.79 1461.95 1803.45 1459.85 Q1801.11 1457.74 1797.11 1457.74 Q1795.24 1457.74 1793.36 1458.16 Q1791.51 1458.57 1789.56 1459.45 L1789.56 1442.09 Z\" fill=\"#000000\" fill-rule=\"evenodd\" fill-opacity=\"1\" /><path clip-path=\"url(#clip400)\" d=\"M 0 0 M2273.3 1472.72 L2289.62 1472.72 L2289.62 1476.65 L2267.68 1476.65 L2267.68 1472.72 Q2270.34 1469.96 2274.92 1465.33 Q2279.53 1460.68 2280.71 1459.34 Q2282.96 1456.81 2283.84 1455.08 Q2284.74 1453.32 2284.74 1451.63 Q2284.74 1448.87 2282.79 1447.14 Q2280.87 1445.4 2277.77 1445.4 Q2275.57 1445.4 2273.12 1446.17 Q2270.69 1446.93 2267.91 1448.48 L2267.91 1443.76 Q2270.73 1442.62 2273.19 1442.05 Q2275.64 1441.47 2277.68 1441.47 Q2283.05 1441.47 2286.24 1444.15 Q2289.44 1446.84 2289.44 1451.33 Q2289.44 1453.46 2288.63 1455.38 Q2287.84 1457.28 2285.73 1459.87 Q2285.15 1460.54 2282.05 1463.76 Q2278.95 1466.95 2273.3 1472.72 Z\" fill=\"#000000\" fill-rule=\"evenodd\" fill-opacity=\"1\" /><path clip-path=\"url(#clip400)\" d=\"M 0 0 M2304.69 1445.17 Q2301.08 1445.17 2299.25 1448.74 Q2297.45 1452.28 2297.45 1459.41 Q2297.45 1466.51 2299.25 1470.08 Q2301.08 1473.62 2304.69 1473.62 Q2308.33 1473.62 2310.13 1470.08 Q2311.96 1466.51 2311.96 1459.41 Q2311.96 1452.28 2310.13 1448.74 Q2308.33 1445.17 2304.69 1445.17 M2304.69 1441.47 Q2310.5 1441.47 2313.56 1446.07 Q2316.64 1450.66 2316.64 1459.41 Q2316.64 1468.13 2313.56 1472.74 Q2310.5 1477.32 2304.69 1477.32 Q2298.88 1477.32 2295.8 1472.74 Q2292.75 1468.13 2292.75 1459.41 Q2292.75 1450.66 2295.8 1446.07 Q2298.88 1441.47 2304.69 1441.47 Z\" fill=\"#000000\" fill-rule=\"evenodd\" fill-opacity=\"1\" /><path clip-path=\"url(#clip400)\" d=\"M 0 0 M138.691 1370.04 Q135.08 1370.04 133.251 1373.6 Q131.445 1377.14 131.445 1384.27 Q131.445 1391.38 133.251 1394.94 Q135.08 1398.49 138.691 1398.49 Q142.325 1398.49 144.13 1394.94 Q145.959 1391.38 145.959 1384.27 Q145.959 1377.14 144.13 1373.6 Q142.325 1370.04 138.691 1370.04 M138.691 1366.33 Q144.501 1366.33 147.556 1370.94 Q150.635 1375.52 150.635 1384.27 Q150.635 1393 147.556 1397.61 Q144.501 1402.19 138.691 1402.19 Q132.88 1402.19 129.802 1397.61 Q126.746 1393 126.746 1384.27 Q126.746 1375.52 129.802 1370.94 Q132.88 1366.33 138.691 1366.33 Z\" fill=\"#000000\" fill-rule=\"evenodd\" fill-opacity=\"1\" /><path clip-path=\"url(#clip400)\" d=\"M 0 0 M155.704 1395.64 L160.589 1395.64 L160.589 1401.52 L155.704 1401.52 L155.704 1395.64 Z\" fill=\"#000000\" fill-rule=\"evenodd\" fill-opacity=\"1\" /><path clip-path=\"url(#clip400)\" d=\"M 0 0 M175.658 1370.04 Q172.047 1370.04 170.218 1373.6 Q168.413 1377.14 168.413 1384.27 Q168.413 1391.38 170.218 1394.94 Q172.047 1398.49 175.658 1398.49 Q179.292 1398.49 181.098 1394.94 Q182.927 1391.38 182.927 1384.27 Q182.927 1377.14 181.098 1373.6 Q179.292 1370.04 175.658 1370.04 M175.658 1366.33 Q181.468 1366.33 184.524 1370.94 Q187.602 1375.52 187.602 1384.27 Q187.602 1393 184.524 1397.61 Q181.468 1402.19 175.658 1402.19 Q169.848 1402.19 166.769 1397.61 Q163.714 1393 163.714 1384.27 Q163.714 1375.52 166.769 1370.94 Q169.848 1366.33 175.658 1366.33 Z\" fill=\"#000000\" fill-rule=\"evenodd\" fill-opacity=\"1\" /><path clip-path=\"url(#clip400)\" d=\"M 0 0 M140.288 1074.5 Q136.677 1074.5 134.848 1078.06 Q133.043 1081.6 133.043 1088.73 Q133.043 1095.84 134.848 1099.4 Q136.677 1102.94 140.288 1102.94 Q143.922 1102.94 145.728 1099.4 Q147.556 1095.84 147.556 1088.73 Q147.556 1081.6 145.728 1078.06 Q143.922 1074.5 140.288 1074.5 M140.288 1070.79 Q146.098 1070.79 149.154 1075.4 Q152.232 1079.98 152.232 1088.73 Q152.232 1097.46 149.154 1102.06 Q146.098 1106.65 140.288 1106.65 Q134.478 1106.65 131.399 1102.06 Q128.343 1097.46 128.343 1088.73 Q128.343 1079.98 131.399 1075.4 Q134.478 1070.79 140.288 1070.79 Z\" fill=\"#000000\" fill-rule=\"evenodd\" fill-opacity=\"1\" /><path clip-path=\"url(#clip400)\" d=\"M 0 0 M157.302 1100.1 L162.186 1100.1 L162.186 1105.98 L157.302 1105.98 L157.302 1100.1 Z\" fill=\"#000000\" fill-rule=\"evenodd\" fill-opacity=\"1\" /><path clip-path=\"url(#clip400)\" d=\"M 0 0 M171.283 1102.04 L187.602 1102.04 L187.602 1105.98 L165.658 1105.98 L165.658 1102.04 Q168.32 1099.29 172.903 1094.66 Q177.51 1090 178.69 1088.66 Q180.936 1086.14 181.815 1084.4 Q182.718 1082.64 182.718 1080.95 Q182.718 1078.2 180.774 1076.46 Q178.852 1074.73 175.751 1074.73 Q173.552 1074.73 171.098 1075.49 Q168.667 1076.25 165.89 1077.81 L165.89 1073.08 Q168.714 1071.95 171.167 1071.37 Q173.621 1070.79 175.658 1070.79 Q181.028 1070.79 184.223 1073.48 Q187.417 1076.16 187.417 1080.65 Q187.417 1082.78 186.607 1084.7 Q185.82 1086.6 183.714 1089.19 Q183.135 1089.87 180.033 1093.08 Q176.931 1096.28 171.283 1102.04 Z\" fill=\"#000000\" fill-rule=\"evenodd\" fill-opacity=\"1\" /><path clip-path=\"url(#clip400)\" d=\"M 0 0 M138.205 778.954 Q134.593 778.954 132.765 782.519 Q130.959 786.06 130.959 793.19 Q130.959 800.297 132.765 803.861 Q134.593 807.403 138.205 807.403 Q141.839 807.403 143.644 803.861 Q145.473 800.297 145.473 793.19 Q145.473 786.06 143.644 782.519 Q141.839 778.954 138.205 778.954 M138.205 775.25 Q144.015 775.25 147.07 779.857 Q150.149 784.44 150.149 793.19 Q150.149 801.917 147.07 806.523 Q144.015 811.107 138.205 811.107 Q132.394 811.107 129.316 806.523 Q126.26 801.917 126.26 793.19 Q126.26 784.44 129.316 779.857 Q132.394 775.25 138.205 775.25 Z\" fill=\"#000000\" fill-rule=\"evenodd\" fill-opacity=\"1\" /><path clip-path=\"url(#clip400)\" d=\"M 0 0 M155.218 804.556 L160.103 804.556 L160.103 810.435 L155.218 810.435 L155.218 804.556 Z\" fill=\"#000000\" fill-rule=\"evenodd\" fill-opacity=\"1\" /><path clip-path=\"url(#clip400)\" d=\"M 0 0 M178.019 779.949 L166.214 798.398 L178.019 798.398 L178.019 779.949 M176.792 775.875 L182.672 775.875 L182.672 798.398 L187.602 798.398 L187.602 802.287 L182.672 802.287 L182.672 810.435 L178.019 810.435 L178.019 802.287 L162.417 802.287 L162.417 797.773 L176.792 775.875 Z\" fill=\"#000000\" fill-rule=\"evenodd\" fill-opacity=\"1\" /><path clip-path=\"url(#clip400)\" d=\"M 0 0 M138.529 483.413 Q134.918 483.413 133.089 486.977 Q131.283 490.519 131.283 497.649 Q131.283 504.755 133.089 508.32 Q134.918 511.861 138.529 511.861 Q142.163 511.861 143.968 508.32 Q145.797 504.755 145.797 497.649 Q145.797 490.519 143.968 486.977 Q142.163 483.413 138.529 483.413 M138.529 479.709 Q144.339 479.709 147.394 484.315 Q150.473 488.899 150.473 497.649 Q150.473 506.375 147.394 510.982 Q144.339 515.565 138.529 515.565 Q132.718 515.565 129.64 510.982 Q126.584 506.375 126.584 497.649 Q126.584 488.899 129.64 484.315 Q132.718 479.709 138.529 479.709 Z\" fill=\"#000000\" fill-rule=\"evenodd\" fill-opacity=\"1\" /><path clip-path=\"url(#clip400)\" d=\"M 0 0 M155.542 509.014 L160.427 509.014 L160.427 514.894 L155.542 514.894 L155.542 509.014 Z\" fill=\"#000000\" fill-rule=\"evenodd\" fill-opacity=\"1\" /><path clip-path=\"url(#clip400)\" d=\"M 0 0 M176.075 495.75 Q172.927 495.75 171.075 497.903 Q169.246 500.056 169.246 503.806 Q169.246 507.533 171.075 509.709 Q172.927 511.861 176.075 511.861 Q179.223 511.861 181.052 509.709 Q182.903 507.533 182.903 503.806 Q182.903 500.056 181.052 497.903 Q179.223 495.75 176.075 495.75 M185.357 481.098 L185.357 485.357 Q183.598 484.524 181.792 484.084 Q180.01 483.644 178.251 483.644 Q173.621 483.644 171.167 486.769 Q168.737 489.894 168.39 496.213 Q169.755 494.2 171.815 493.135 Q173.876 492.047 176.352 492.047 Q181.561 492.047 184.57 495.218 Q187.602 498.366 187.602 503.806 Q187.602 509.13 184.454 512.348 Q181.306 515.565 176.075 515.565 Q170.079 515.565 166.908 510.982 Q163.737 506.375 163.737 497.649 Q163.737 489.454 167.626 484.593 Q171.515 479.709 178.065 479.709 Q179.825 479.709 181.607 480.056 Q183.413 480.403 185.357 481.098 Z\" fill=\"#000000\" fill-rule=\"evenodd\" fill-opacity=\"1\" /><path clip-path=\"url(#clip400)\" d=\"M 0 0 M138.783 187.871 Q135.172 187.871 133.343 191.436 Q131.538 194.978 131.538 202.107 Q131.538 209.214 133.343 212.778 Q135.172 216.32 138.783 216.32 Q142.417 216.32 144.223 212.778 Q146.052 209.214 146.052 202.107 Q146.052 194.978 144.223 191.436 Q142.417 187.871 138.783 187.871 M138.783 184.167 Q144.593 184.167 147.649 188.774 Q150.728 193.357 150.728 202.107 Q150.728 210.834 147.649 215.44 Q144.593 220.024 138.783 220.024 Q132.973 220.024 129.894 215.44 Q126.839 210.834 126.839 202.107 Q126.839 193.357 129.894 188.774 Q132.973 184.167 138.783 184.167 Z\" fill=\"#000000\" fill-rule=\"evenodd\" fill-opacity=\"1\" /><path clip-path=\"url(#clip400)\" d=\"M 0 0 M155.797 213.473 L160.681 213.473 L160.681 219.352 L155.797 219.352 L155.797 213.473 Z\" fill=\"#000000\" fill-rule=\"evenodd\" fill-opacity=\"1\" /><path clip-path=\"url(#clip400)\" d=\"M 0 0 M175.751 202.94 Q172.417 202.94 170.496 204.723 Q168.598 206.505 168.598 209.63 Q168.598 212.755 170.496 214.538 Q172.417 216.32 175.751 216.32 Q179.084 216.32 181.005 214.538 Q182.927 212.732 182.927 209.63 Q182.927 206.505 181.005 204.723 Q179.107 202.94 175.751 202.94 M171.075 200.95 Q168.065 200.209 166.376 198.149 Q164.709 196.089 164.709 193.126 Q164.709 188.982 167.649 186.575 Q170.612 184.167 175.751 184.167 Q180.913 184.167 183.852 186.575 Q186.792 188.982 186.792 193.126 Q186.792 196.089 185.102 198.149 Q183.436 200.209 180.45 200.95 Q183.829 201.737 185.704 204.028 Q187.602 206.32 187.602 209.63 Q187.602 214.653 184.524 217.339 Q181.468 220.024 175.751 220.024 Q170.033 220.024 166.954 217.339 Q163.899 214.653 163.899 209.63 Q163.899 206.32 165.797 204.028 Q167.695 201.737 171.075 200.95 M169.362 193.566 Q169.362 196.251 171.028 197.755 Q172.718 199.26 175.751 199.26 Q178.76 199.26 180.45 197.755 Q182.163 196.251 182.163 193.566 Q182.163 190.88 180.45 189.376 Q178.76 187.871 175.751 187.871 Q172.718 187.871 171.028 189.376 Q169.362 190.88 169.362 193.566 Z\" fill=\"#000000\" fill-rule=\"evenodd\" fill-opacity=\"1\" /><path clip-path=\"url(#clip400)\" d=\"M 0 0 M1129.12 1510.27 L1129.12 1520.4 L1141.18 1520.4 L1141.18 1524.95 L1129.12 1524.95 L1129.12 1544.3 Q1129.12 1548.66 1130.29 1549.9 Q1131.5 1551.14 1135.16 1551.14 L1141.18 1551.14 L1141.18 1556.04 L1135.16 1556.04 Q1128.38 1556.04 1125.81 1553.53 Q1123.23 1550.98 1123.23 1544.3 L1123.23 1524.95 L1118.93 1524.95 L1118.93 1520.4 L1123.23 1520.4 L1123.23 1510.27 L1129.12 1510.27 Z\" fill=\"#000000\" fill-rule=\"evenodd\" fill-opacity=\"1\" /><path clip-path=\"url(#clip400)\" d=\"M 0 0 M1147.32 1520.4 L1153.18 1520.4 L1153.18 1556.04 L1147.32 1556.04 L1147.32 1520.4 M1147.32 1506.52 L1153.18 1506.52 L1153.18 1513.93 L1147.32 1513.93 L1147.32 1506.52 Z\" fill=\"#000000\" fill-rule=\"evenodd\" fill-opacity=\"1\" /><path clip-path=\"url(#clip400)\" d=\"M 0 0 M1187.08 1527.24 Q1189.27 1523.29 1192.33 1521.41 Q1195.38 1519.54 1199.52 1519.54 Q1205.09 1519.54 1208.11 1523.45 Q1211.14 1527.33 1211.14 1534.53 L1211.14 1556.04 L1205.25 1556.04 L1205.25 1534.72 Q1205.25 1529.59 1203.44 1527.11 Q1201.62 1524.63 1197.9 1524.63 Q1193.35 1524.63 1190.7 1527.65 Q1188.06 1530.68 1188.06 1535.9 L1188.06 1556.04 L1182.17 1556.04 L1182.17 1534.72 Q1182.17 1529.56 1180.36 1527.11 Q1178.55 1524.63 1174.76 1524.63 Q1170.27 1524.63 1167.63 1527.68 Q1164.99 1530.71 1164.99 1535.9 L1164.99 1556.04 L1159.1 1556.04 L1159.1 1520.4 L1164.99 1520.4 L1164.99 1525.93 Q1166.99 1522.66 1169.79 1521.1 Q1172.59 1519.54 1176.44 1519.54 Q1180.33 1519.54 1183.03 1521.51 Q1185.77 1523.48 1187.08 1527.24 Z\" fill=\"#000000\" fill-rule=\"evenodd\" fill-opacity=\"1\" /><path clip-path=\"url(#clip400)\" d=\"M 0 0 M1247.77 1536.76 L1247.77 1539.62 L1220.85 1539.62 Q1221.23 1545.67 1224.47 1548.85 Q1227.75 1552 1233.58 1552 Q1236.95 1552 1240.1 1551.17 Q1243.28 1550.35 1246.4 1548.69 L1246.4 1554.23 Q1243.25 1555.57 1239.94 1556.27 Q1236.63 1556.97 1233.23 1556.97 Q1224.7 1556.97 1219.7 1552 Q1214.73 1547.04 1214.73 1538.57 Q1214.73 1529.82 1219.45 1524.69 Q1224.19 1519.54 1232.21 1519.54 Q1239.4 1519.54 1243.57 1524.18 Q1247.77 1528.8 1247.77 1536.76 M1241.92 1535.04 Q1241.85 1530.23 1239.21 1527.37 Q1236.6 1524.5 1232.27 1524.5 Q1227.37 1524.5 1224.41 1527.27 Q1221.48 1530.04 1221.04 1535.07 L1241.92 1535.04 Z\" fill=\"#000000\" fill-rule=\"evenodd\" fill-opacity=\"1\" /><path clip-path=\"url(#clip400)\" d=\"M 0 0 M1288.7 1506.58 Q1284.44 1513.9 1282.37 1521.06 Q1280.3 1528.23 1280.3 1535.58 Q1280.3 1542.93 1282.37 1550.16 Q1284.47 1557.35 1288.7 1564.64 L1283.61 1564.64 Q1278.84 1557.16 1276.45 1549.93 Q1274.09 1542.71 1274.09 1535.58 Q1274.09 1528.48 1276.45 1521.29 Q1278.81 1514.09 1283.61 1506.58 L1288.7 1506.58 Z\" fill=\"#000000\" fill-rule=\"evenodd\" fill-opacity=\"1\" /><path clip-path=\"url(#clip400)\" d=\"M 0 0 M1318.3 1525.81 L1318.3 1506.52 L1324.16 1506.52 L1324.16 1556.04 L1318.3 1556.04 L1318.3 1550.7 Q1316.46 1553.88 1313.63 1555.44 Q1310.82 1556.97 1306.88 1556.97 Q1300.42 1556.97 1296.34 1551.81 Q1292.3 1546.65 1292.3 1538.25 Q1292.3 1529.85 1296.34 1524.69 Q1300.42 1519.54 1306.88 1519.54 Q1310.82 1519.54 1313.63 1521.1 Q1316.46 1522.62 1318.3 1525.81 M1298.35 1538.25 Q1298.35 1544.71 1300.99 1548.4 Q1303.66 1552.07 1308.31 1552.07 Q1312.96 1552.07 1315.63 1548.4 Q1318.3 1544.71 1318.3 1538.25 Q1318.3 1531.79 1315.63 1528.13 Q1312.96 1524.44 1308.31 1524.44 Q1303.66 1524.44 1300.99 1528.13 Q1298.35 1531.79 1298.35 1538.25 Z\" fill=\"#000000\" fill-rule=\"evenodd\" fill-opacity=\"1\" /><path clip-path=\"url(#clip400)\" d=\"M 0 0 M1346.5 1538.12 Q1339.41 1538.12 1336.67 1539.75 Q1333.93 1541.37 1333.93 1545.29 Q1333.93 1548.4 1335.97 1550.25 Q1338.04 1552.07 1341.57 1552.07 Q1346.44 1552.07 1349.37 1548.63 Q1352.33 1545.16 1352.33 1539.43 L1352.33 1538.12 L1346.5 1538.12 M1358.19 1535.71 L1358.19 1556.04 L1352.33 1556.04 L1352.33 1550.63 Q1350.32 1553.88 1347.33 1555.44 Q1344.34 1556.97 1340.01 1556.97 Q1334.54 1556.97 1331.29 1553.91 Q1328.08 1550.82 1328.08 1545.67 Q1328.08 1539.65 1332.09 1536.6 Q1336.13 1533.54 1344.12 1533.54 L1352.33 1533.54 L1352.33 1532.97 Q1352.33 1528.93 1349.66 1526.73 Q1347.01 1524.5 1342.21 1524.5 Q1339.15 1524.5 1336.26 1525.23 Q1333.36 1525.97 1330.69 1527.43 L1330.69 1522.02 Q1333.9 1520.78 1336.92 1520.17 Q1339.95 1519.54 1342.81 1519.54 Q1350.55 1519.54 1354.37 1523.55 Q1358.19 1527.56 1358.19 1535.71 Z\" fill=\"#000000\" fill-rule=\"evenodd\" fill-opacity=\"1\" /><path clip-path=\"url(#clip400)\" d=\"M 0 0 M1379.16 1559.35 Q1376.68 1565.72 1374.32 1567.66 Q1371.97 1569.6 1368.02 1569.6 L1363.34 1569.6 L1363.34 1564.7 L1366.78 1564.7 Q1369.2 1564.7 1370.54 1563.56 Q1371.87 1562.41 1373.5 1558.14 L1374.55 1555.47 L1360.13 1520.4 L1366.33 1520.4 L1377.47 1548.28 L1388.61 1520.4 L1394.82 1520.4 L1379.16 1559.35 Z\" fill=\"#000000\" fill-rule=\"evenodd\" fill-opacity=\"1\" /><path clip-path=\"url(#clip400)\" d=\"M 0 0 M1423.69 1521.45 L1423.69 1526.98 Q1421.21 1525.71 1418.53 1525.07 Q1415.86 1524.44 1412.99 1524.44 Q1408.63 1524.44 1406.44 1525.77 Q1404.27 1527.11 1404.27 1529.79 Q1404.27 1531.82 1405.83 1533 Q1407.39 1534.15 1412.1 1535.2 L1414.11 1535.64 Q1420.35 1536.98 1422.96 1539.43 Q1425.6 1541.85 1425.6 1546.21 Q1425.6 1551.17 1421.65 1554.07 Q1417.74 1556.97 1410.86 1556.97 Q1408 1556.97 1404.88 1556.39 Q1401.79 1555.85 1398.35 1554.74 L1398.35 1548.69 Q1401.6 1550.38 1404.75 1551.24 Q1407.9 1552.07 1410.99 1552.07 Q1415.13 1552.07 1417.35 1550.66 Q1419.58 1549.23 1419.58 1546.65 Q1419.58 1544.27 1417.96 1542.99 Q1416.37 1541.72 1410.93 1540.54 L1408.89 1540.07 Q1403.45 1538.92 1401.03 1536.56 Q1398.61 1534.18 1398.61 1530.04 Q1398.61 1525.01 1402.17 1522.27 Q1405.74 1519.54 1412.29 1519.54 Q1415.54 1519.54 1418.41 1520.01 Q1421.27 1520.49 1423.69 1521.45 Z\" fill=\"#000000\" fill-rule=\"evenodd\" fill-opacity=\"1\" /><path clip-path=\"url(#clip400)\" d=\"M 0 0 M1430.82 1506.58 L1435.91 1506.58 Q1440.69 1514.09 1443.04 1521.29 Q1445.43 1528.48 1445.43 1535.58 Q1445.43 1542.71 1443.04 1549.93 Q1440.69 1557.16 1435.91 1564.64 L1430.82 1564.64 Q1435.05 1557.35 1437.12 1550.16 Q1439.22 1542.93 1439.22 1535.58 Q1439.22 1528.23 1437.12 1521.06 Q1435.05 1513.9 1430.82 1506.58 Z\" fill=\"#000000\" fill-rule=\"evenodd\" fill-opacity=\"1\" /><path clip-path=\"url(#clip400)\" d=\"M 0 0 M53.7248 1210.76 L59.1993 1210.76 Q57.8307 1213.24 57.1623 1215.76 Q56.4621 1218.24 56.4621 1220.79 Q56.4621 1226.49 60.0905 1229.64 Q63.6872 1232.79 70.212 1232.79 Q76.7369 1232.79 80.3653 1229.64 Q83.9619 1226.49 83.9619 1220.79 Q83.9619 1218.24 83.2935 1215.76 Q82.5933 1213.24 81.2247 1210.76 L86.6355 1210.76 Q87.7814 1213.21 88.3543 1215.85 Q88.9272 1218.46 88.9272 1221.42 Q88.9272 1229.48 83.8664 1234.22 Q78.8057 1238.96 70.212 1238.96 Q61.491 1238.96 56.4939 1234.19 Q51.4968 1229.38 51.4968 1221.04 Q51.4968 1218.34 52.0697 1215.76 Q52.6108 1213.18 53.7248 1210.76 Z\" fill=\"#000000\" fill-rule=\"evenodd\" fill-opacity=\"1\" /><path clip-path=\"url(#clip400)\" d=\"M 0 0 M73.9359 1205.22 L52.3562 1205.22 L52.3562 1199.37 L73.7131 1199.37 Q78.7739 1199.37 81.3202 1197.39 Q83.8346 1195.42 83.8346 1191.47 Q83.8346 1186.73 80.8109 1183.99 Q77.7872 1181.23 72.5673 1181.23 L52.3562 1181.23 L52.3562 1175.37 L88.0042 1175.37 L88.0042 1181.23 L82.5296 1181.23 Q85.7762 1183.36 87.3676 1186.19 Q88.9272 1188.99 88.9272 1192.72 Q88.9272 1198.86 85.1078 1202.04 Q81.2883 1205.22 73.9359 1205.22 M51.4968 1190.49 L51.4968 1190.49 Z\" fill=\"#000000\" fill-rule=\"evenodd\" fill-opacity=\"1\" /><path clip-path=\"url(#clip400)\" d=\"M 0 0 M59.1993 1141.47 Q55.2526 1139.28 53.3747 1136.22 Q51.4968 1133.16 51.4968 1129.03 Q51.4968 1123.46 55.4117 1120.43 Q59.2948 1117.41 66.4881 1117.41 L88.0042 1117.41 L88.0042 1123.3 L66.679 1123.3 Q61.5546 1123.3 59.072 1125.11 Q56.5894 1126.93 56.5894 1130.65 Q56.5894 1135.2 59.6131 1137.84 Q62.6368 1140.48 67.8567 1140.48 L88.0042 1140.48 L88.0042 1146.37 L66.679 1146.37 Q61.5228 1146.37 59.072 1148.19 Q56.5894 1150 56.5894 1153.79 Q56.5894 1158.28 59.6449 1160.92 Q62.6686 1163.56 67.8567 1163.56 L88.0042 1163.56 L88.0042 1169.45 L52.3562 1169.45 L52.3562 1163.56 L57.8944 1163.56 Q54.616 1161.56 53.0564 1158.75 Q51.4968 1155.95 51.4968 1152.1 Q51.4968 1148.22 53.4702 1145.51 Q55.4436 1142.78 59.1993 1141.47 Z\" fill=\"#000000\" fill-rule=\"evenodd\" fill-opacity=\"1\" /><path clip-path=\"url(#clip400)\" d=\"M 0 0 M73.9359 1111.87 L52.3562 1111.87 L52.3562 1106.01 L73.7131 1106.01 Q78.7739 1106.01 81.3202 1104.04 Q83.8346 1102.07 83.8346 1098.12 Q83.8346 1093.38 80.8109 1090.64 Q77.7872 1087.87 72.5673 1087.87 L52.3562 1087.87 L52.3562 1082.02 L88.0042 1082.02 L88.0042 1087.87 L82.5296 1087.87 Q85.7762 1090 87.3676 1092.84 Q88.9272 1095.64 88.9272 1099.36 Q88.9272 1105.51 85.1078 1108.69 Q81.2883 1111.87 73.9359 1111.87 M51.4968 1097.13 L51.4968 1097.13 Z\" fill=\"#000000\" fill-rule=\"evenodd\" fill-opacity=\"1\" /><path clip-path=\"url(#clip400)\" d=\"M 0 0 M38.479 1075.87 L38.479 1070.02 L88.0042 1070.02 L88.0042 1075.87 L38.479 1075.87 Z\" fill=\"#000000\" fill-rule=\"evenodd\" fill-opacity=\"1\" /><path clip-path=\"url(#clip400)\" d=\"M 0 0 M70.0847 1047.67 Q70.0847 1054.77 71.7079 1057.51 Q73.3312 1060.24 77.2461 1060.24 Q80.3653 1060.24 82.2114 1058.21 Q84.0256 1056.14 84.0256 1052.61 Q84.0256 1047.74 80.5881 1044.81 Q77.1188 1041.85 71.3897 1041.85 L70.0847 1041.85 L70.0847 1047.67 M67.6657 1035.99 L88.0042 1035.99 L88.0042 1041.85 L82.5933 1041.85 Q85.8398 1043.85 87.3994 1046.85 Q88.9272 1049.84 88.9272 1054.17 Q88.9272 1059.64 85.8716 1062.89 Q82.7843 1066.1 77.6281 1066.1 Q71.6125 1066.1 68.5569 1062.09 Q65.5014 1058.05 65.5014 1050.06 L65.5014 1041.85 L64.9285 1041.85 Q60.8862 1041.85 58.6901 1044.52 Q56.4621 1047.16 56.4621 1051.97 Q56.4621 1055.03 57.1941 1057.92 Q57.9262 1060.82 59.3903 1063.49 L53.9795 1063.49 Q52.7381 1060.28 52.1334 1057.25 Q51.4968 1054.23 51.4968 1051.36 Q51.4968 1043.63 55.5072 1039.81 Q59.5176 1035.99 67.6657 1035.99 Z\" fill=\"#000000\" fill-rule=\"evenodd\" fill-opacity=\"1\" /><path clip-path=\"url(#clip400)\" d=\"M 0 0 M42.2347 1024.06 L52.3562 1024.06 L52.3562 1011.99 L56.9077 1011.99 L56.9077 1024.06 L76.2594 1024.06 Q80.6199 1024.06 81.8613 1022.88 Q83.1026 1021.67 83.1026 1018.01 L83.1026 1011.99 L88.0042 1011.99 L88.0042 1018.01 Q88.0042 1024.79 85.4897 1027.37 Q82.9434 1029.94 76.2594 1029.94 L56.9077 1029.94 L56.9077 1034.24 L52.3562 1034.24 L52.3562 1029.94 L42.2347 1029.94 L42.2347 1024.06 Z\" fill=\"#000000\" fill-rule=\"evenodd\" fill-opacity=\"1\" /><path clip-path=\"url(#clip400)\" d=\"M 0 0 M52.3562 1005.85 L52.3562 999.994 L88.0042 999.994 L88.0042 1005.85 L52.3562 1005.85 M38.479 1005.85 L38.479 999.994 L45.895 999.994 L45.895 1005.85 L38.479 1005.85 Z\" fill=\"#000000\" fill-rule=\"evenodd\" fill-opacity=\"1\" /><path clip-path=\"url(#clip400)\" d=\"M 0 0 M52.3562 998.052 L52.3562 991.845 L82.275 980.705 L52.3562 969.565 L52.3562 963.359 L88.0042 976.727 L88.0042 984.684 L52.3562 998.052 Z\" fill=\"#000000\" fill-rule=\"evenodd\" fill-opacity=\"1\" /><path clip-path=\"url(#clip400)\" d=\"M 0 0 M68.7161 926.724 L71.5806 926.724 L71.5806 953.651 Q77.6281 953.269 80.8109 950.023 Q83.9619 946.744 83.9619 940.92 Q83.9619 937.546 83.1344 934.395 Q82.3069 931.212 80.6518 928.093 L86.1899 928.093 Q87.5267 931.244 88.227 934.554 Q88.9272 937.864 88.9272 941.27 Q88.9272 949.8 83.9619 954.797 Q78.9967 959.762 70.5303 959.762 Q61.7774 959.762 56.6531 955.052 Q51.4968 950.309 51.4968 942.288 Q51.4968 935.095 56.1438 930.926 Q60.7589 926.724 68.7161 926.724 M66.9973 932.581 Q62.1912 932.644 59.3266 935.286 Q56.4621 937.896 56.4621 942.225 Q56.4621 947.126 59.2312 950.086 Q62.0002 953.015 67.0292 953.46 L66.9973 932.581 Z\" fill=\"#000000\" fill-rule=\"evenodd\" fill-opacity=\"1\" /><path clip-path=\"url(#clip400)\" d=\"M 0 0 M82.657 894.195 L101.563 894.195 L101.563 900.084 L52.3562 900.084 L52.3562 894.195 L57.7671 894.195 Q54.5842 892.349 53.0564 889.549 Q51.4968 886.716 51.4968 882.801 Q51.4968 876.308 56.6531 872.266 Q61.8093 868.192 70.212 868.192 Q78.6147 868.192 83.771 872.266 Q88.9272 876.308 88.9272 882.801 Q88.9272 886.716 87.3994 889.549 Q85.8398 892.349 82.657 894.195 M70.212 874.271 Q63.7508 874.271 60.0905 876.944 Q56.3984 879.586 56.3984 884.233 Q56.3984 888.88 60.0905 891.554 Q63.7508 894.195 70.212 894.195 Q76.6732 894.195 80.3653 891.554 Q84.0256 888.88 84.0256 884.233 Q84.0256 879.586 80.3653 876.944 Q76.6732 874.271 70.212 874.271 Z\" fill=\"#000000\" fill-rule=\"evenodd\" fill-opacity=\"1\" /><path clip-path=\"url(#clip400)\" d=\"M 0 0 M57.8307 841.392 Q57.2578 842.379 57.0032 843.556 Q56.7167 844.702 56.7167 846.103 Q56.7167 851.068 59.9632 853.741 Q63.1779 856.383 69.2253 856.383 L88.0042 856.383 L88.0042 862.271 L52.3562 862.271 L52.3562 856.383 L57.8944 856.383 Q54.6479 854.537 53.0883 851.577 Q51.4968 848.617 51.4968 844.384 Q51.4968 843.779 51.5923 843.047 Q51.656 842.315 51.8151 841.424 L57.8307 841.392 Z\" fill=\"#000000\" fill-rule=\"evenodd\" fill-opacity=\"1\" /><path clip-path=\"url(#clip400)\" d=\"M 0 0 M56.4621 822.868 Q56.4621 827.578 60.1542 830.316 Q63.8145 833.053 70.212 833.053 Q76.6095 833.053 80.3017 830.347 Q83.9619 827.61 83.9619 822.868 Q83.9619 818.189 80.2698 815.452 Q76.5777 812.714 70.212 812.714 Q63.8781 812.714 60.186 815.452 Q56.4621 818.189 56.4621 822.868 M51.4968 822.868 Q51.4968 815.229 56.4621 810.868 Q61.4273 806.508 70.212 806.508 Q78.9649 806.508 83.9619 810.868 Q88.9272 815.229 88.9272 822.868 Q88.9272 830.538 83.9619 834.899 Q78.9649 839.228 70.212 839.228 Q61.4273 839.228 56.4621 834.899 Q51.4968 830.538 51.4968 822.868 Z\" fill=\"#000000\" fill-rule=\"evenodd\" fill-opacity=\"1\" /><path clip-path=\"url(#clip400)\" d=\"M 0 0 M70.212 774.775 Q63.7508 774.775 60.0905 777.448 Q56.3984 780.09 56.3984 784.737 Q56.3984 789.384 60.0905 792.058 Q63.7508 794.699 70.212 794.699 Q76.6732 794.699 80.3653 792.058 Q84.0256 789.384 84.0256 784.737 Q84.0256 780.09 80.3653 777.448 Q76.6732 774.775 70.212 774.775 M57.7671 794.699 Q54.5842 792.853 53.0564 790.053 Q51.4968 787.22 51.4968 783.305 Q51.4968 776.812 56.6531 772.77 Q61.8093 768.696 70.212 768.696 Q78.6147 768.696 83.771 772.77 Q88.9272 776.812 88.9272 783.305 Q88.9272 787.22 87.3994 790.053 Q85.8398 792.853 82.657 794.699 L88.0042 794.699 L88.0042 800.588 L38.479 800.588 L38.479 794.699 L57.7671 794.699 Z\" fill=\"#000000\" fill-rule=\"evenodd\" fill-opacity=\"1\" /><path clip-path=\"url(#clip400)\" d=\"M 0 0 M70.0847 746.352 Q70.0847 753.45 71.7079 756.187 Q73.3312 758.924 77.2461 758.924 Q80.3653 758.924 82.2114 756.887 Q84.0256 754.818 84.0256 751.285 Q84.0256 746.416 80.5881 743.487 Q77.1188 740.527 71.3897 740.527 L70.0847 740.527 L70.0847 746.352 M67.6657 734.671 L88.0042 734.671 L88.0042 740.527 L82.5933 740.527 Q85.8398 742.533 87.3994 745.524 Q88.9272 748.516 88.9272 752.845 Q88.9272 758.319 85.8716 761.566 Q82.7843 764.781 77.6281 764.781 Q71.6125 764.781 68.5569 760.77 Q65.5014 756.728 65.5014 748.739 L65.5014 740.527 L64.9285 740.527 Q60.8862 740.527 58.6901 743.201 Q56.4621 745.843 56.4621 750.649 Q56.4621 753.704 57.1941 756.601 Q57.9262 759.497 59.3903 762.171 L53.9795 762.171 Q52.7381 758.956 52.1334 755.932 Q51.4968 752.909 51.4968 750.044 Q51.4968 742.31 55.5072 738.49 Q59.5176 734.671 67.6657 734.671 Z\" fill=\"#000000\" fill-rule=\"evenodd\" fill-opacity=\"1\" /><path clip-path=\"url(#clip400)\" d=\"M 0 0 M70.212 702.938 Q63.7508 702.938 60.0905 705.611 Q56.3984 708.253 56.3984 712.9 Q56.3984 717.547 60.0905 720.221 Q63.7508 722.862 70.212 722.862 Q76.6732 722.862 80.3653 720.221 Q84.0256 717.547 84.0256 712.9 Q84.0256 708.253 80.3653 705.611 Q76.6732 702.938 70.212 702.938 M57.7671 722.862 Q54.5842 721.016 53.0564 718.216 Q51.4968 715.383 51.4968 711.468 Q51.4968 704.975 56.6531 700.933 Q61.8093 696.859 70.212 696.859 Q78.6147 696.859 83.771 700.933 Q88.9272 704.975 88.9272 711.468 Q88.9272 715.383 87.3994 718.216 Q85.8398 721.016 82.657 722.862 L88.0042 722.862 L88.0042 728.751 L38.479 728.751 L38.479 722.862 L57.7671 722.862 Z\" fill=\"#000000\" fill-rule=\"evenodd\" fill-opacity=\"1\" /><path clip-path=\"url(#clip400)\" d=\"M 0 0 M52.3562 690.716 L52.3562 684.859 L88.0042 684.859 L88.0042 690.716 L52.3562 690.716 M38.479 690.716 L38.479 684.859 L45.895 684.859 L45.895 690.716 L38.479 690.716 Z\" fill=\"#000000\" fill-rule=\"evenodd\" fill-opacity=\"1\" /><path clip-path=\"url(#clip400)\" d=\"M 0 0 M38.479 678.716 L38.479 672.86 L88.0042 672.86 L88.0042 678.716 L38.479 678.716 Z\" fill=\"#000000\" fill-rule=\"evenodd\" fill-opacity=\"1\" /><path clip-path=\"url(#clip400)\" d=\"M 0 0 M52.3562 666.717 L52.3562 660.861 L88.0042 660.861 L88.0042 666.717 L52.3562 666.717 M38.479 666.717 L38.479 660.861 L45.895 660.861 L45.895 666.717 L38.479 666.717 Z\" fill=\"#000000\" fill-rule=\"evenodd\" fill-opacity=\"1\" /><path clip-path=\"url(#clip400)\" d=\"M 0 0 M42.2347 648.925 L52.3562 648.925 L52.3562 636.862 L56.9077 636.862 L56.9077 648.925 L76.2594 648.925 Q80.6199 648.925 81.8613 647.747 Q83.1026 646.538 83.1026 642.877 L83.1026 636.862 L88.0042 636.862 L88.0042 642.877 Q88.0042 649.657 85.4897 652.235 Q82.9434 654.813 76.2594 654.813 L56.9077 654.813 L56.9077 659.11 L52.3562 659.11 L52.3562 654.813 L42.2347 654.813 L42.2347 648.925 Z\" fill=\"#000000\" fill-rule=\"evenodd\" fill-opacity=\"1\" /><path clip-path=\"url(#clip400)\" d=\"M 0 0 M91.3143 615.887 Q97.68 618.369 99.6216 620.725 Q101.563 623.08 101.563 627.027 L101.563 631.706 L96.6615 631.706 L96.6615 628.268 Q96.6615 625.849 95.5157 624.512 Q94.3699 623.176 90.1048 621.552 L87.4312 620.502 L52.3562 634.92 L52.3562 628.714 L80.238 617.574 L52.3562 606.434 L52.3562 600.227 L91.3143 615.887 Z\" fill=\"#000000\" fill-rule=\"evenodd\" fill-opacity=\"1\" /><path clip-path=\"url(#clip400)\" d=\"M 0 0 M56.4621 559.55 Q56.4621 564.261 60.1542 566.998 Q63.8145 569.735 70.212 569.735 Q76.6095 569.735 80.3017 567.03 Q83.9619 564.293 83.9619 559.55 Q83.9619 554.871 80.2698 552.134 Q76.5777 549.397 70.212 549.397 Q63.8781 549.397 60.186 552.134 Q56.4621 554.871 56.4621 559.55 M51.4968 559.55 Q51.4968 551.911 56.4621 547.551 Q61.4273 543.19 70.212 543.19 Q78.9649 543.19 83.9619 547.551 Q88.9272 551.911 88.9272 559.55 Q88.9272 567.221 83.9619 571.581 Q78.9649 575.91 70.212 575.91 Q61.4273 575.91 56.4621 571.581 Q51.4968 567.221 51.4968 559.55 Z\" fill=\"#000000\" fill-rule=\"evenodd\" fill-opacity=\"1\" /><path clip-path=\"url(#clip400)\" d=\"M 0 0 M38.479 519.001 L43.3487 519.001 L43.3487 524.603 Q43.3487 527.754 44.6219 528.995 Q45.895 530.204 49.2052 530.204 L52.3562 530.204 L52.3562 520.56 L56.9077 520.56 L56.9077 530.204 L88.0042 530.204 L88.0042 536.093 L56.9077 536.093 L56.9077 541.694 L52.3562 541.694 L52.3562 536.093 L49.8736 536.093 Q43.9216 536.093 41.2162 533.324 Q38.479 530.555 38.479 524.539 L38.479 519.001 Z\" fill=\"#000000\" fill-rule=\"evenodd\" fill-opacity=\"1\" /><path clip-path=\"url(#clip400)\" d=\"M 0 0 M57.8307 471.481 Q57.2578 472.467 57.0032 473.645 Q56.7167 474.791 56.7167 476.191 Q56.7167 481.157 59.9632 483.83 Q63.1779 486.472 69.2253 486.472 L88.0042 486.472 L88.0042 492.36 L52.3562 492.36 L52.3562 486.472 L57.8944 486.472 Q54.6479 484.626 53.0883 481.666 Q51.4968 478.706 51.4968 474.473 Q51.4968 473.868 51.5923 473.136 Q51.656 472.404 51.8151 471.513 L57.8307 471.481 Z\" fill=\"#000000\" fill-rule=\"evenodd\" fill-opacity=\"1\" /><path clip-path=\"url(#clip400)\" d=\"M 0 0 M68.7161 436.278 L71.5806 436.278 L71.5806 463.205 Q77.6281 462.823 80.8109 459.577 Q83.9619 456.299 83.9619 450.474 Q83.9619 447.1 83.1344 443.949 Q82.3069 440.766 80.6518 437.647 L86.1899 437.647 Q87.5267 440.798 88.227 444.108 Q88.9272 447.418 88.9272 450.824 Q88.9272 459.354 83.9619 464.351 Q78.9967 469.316 70.5303 469.316 Q61.7774 469.316 56.6531 464.606 Q51.4968 459.863 51.4968 451.843 Q51.4968 444.649 56.1438 440.48 Q60.7589 436.278 68.7161 436.278 M66.9973 442.135 Q62.1912 442.198 59.3266 444.84 Q56.4621 447.45 56.4621 451.779 Q56.4621 456.68 59.2312 459.641 Q62.0002 462.569 67.0292 463.014 L66.9973 442.135 Z\" fill=\"#000000\" fill-rule=\"evenodd\" fill-opacity=\"1\" /><path clip-path=\"url(#clip400)\" d=\"M 0 0 M53.7248 404.482 L59.1993 404.482 Q57.8307 406.964 57.1623 409.479 Q56.4621 411.961 56.4621 414.508 Q56.4621 420.205 60.0905 423.356 Q63.6872 426.507 70.212 426.507 Q76.7369 426.507 80.3653 423.356 Q83.9619 420.205 83.9619 414.508 Q83.9619 411.961 83.2935 409.479 Q82.5933 406.964 81.2247 404.482 L86.6355 404.482 Q87.7814 406.932 88.3543 409.574 Q88.9272 412.184 88.9272 415.144 Q88.9272 423.197 83.8664 427.939 Q78.8057 432.682 70.212 432.682 Q61.491 432.682 56.4939 427.907 Q51.4968 423.101 51.4968 414.762 Q51.4968 412.057 52.0697 409.479 Q52.6108 406.901 53.7248 404.482 Z\" fill=\"#000000\" fill-rule=\"evenodd\" fill-opacity=\"1\" /><path clip-path=\"url(#clip400)\" d=\"M 0 0 M56.4621 384.525 Q56.4621 389.236 60.1542 391.973 Q63.8145 394.71 70.212 394.71 Q76.6095 394.71 80.3017 392.005 Q83.9619 389.268 83.9619 384.525 Q83.9619 379.846 80.2698 377.109 Q76.5777 374.372 70.212 374.372 Q63.8781 374.372 60.186 377.109 Q56.4621 379.846 56.4621 384.525 M51.4968 384.525 Q51.4968 376.886 56.4621 372.526 Q61.4273 368.165 70.212 368.165 Q78.9649 368.165 83.9619 372.526 Q88.9272 376.886 88.9272 384.525 Q88.9272 392.196 83.9619 396.556 Q78.9649 400.885 70.212 400.885 Q61.4273 400.885 56.4621 396.556 Q51.4968 392.196 51.4968 384.525 Z\" fill=\"#000000\" fill-rule=\"evenodd\" fill-opacity=\"1\" /><path clip-path=\"url(#clip400)\" d=\"M 0 0 M52.3562 366.224 L52.3562 360.017 L82.275 348.877 L52.3562 337.737 L52.3562 331.531 L88.0042 344.899 L88.0042 352.856 L52.3562 366.224 Z\" fill=\"#000000\" fill-rule=\"evenodd\" fill-opacity=\"1\" /><path clip-path=\"url(#clip400)\" d=\"M 0 0 M68.7161 294.896 L71.5806 294.896 L71.5806 321.823 Q77.6281 321.441 80.8109 318.195 Q83.9619 314.916 83.9619 309.092 Q83.9619 305.718 83.1344 302.567 Q82.3069 299.384 80.6518 296.265 L86.1899 296.265 Q87.5267 299.416 88.227 302.726 Q88.9272 306.036 88.9272 309.442 Q88.9272 317.972 83.9619 322.969 Q78.9967 327.934 70.5303 327.934 Q61.7774 327.934 56.6531 323.223 Q51.4968 318.481 51.4968 310.46 Q51.4968 303.267 56.1438 299.097 Q60.7589 294.896 68.7161 294.896 M66.9973 300.752 Q62.1912 300.816 59.3266 303.458 Q56.4621 306.068 56.4621 310.397 Q56.4621 315.298 59.2312 318.258 Q62.0002 321.186 67.0292 321.632 L66.9973 300.752 Z\" fill=\"#000000\" fill-rule=\"evenodd\" fill-opacity=\"1\" /><path clip-path=\"url(#clip400)\" d=\"M 0 0 M57.8307 268.096 Q57.2578 269.083 57.0032 270.261 Q56.7167 271.407 56.7167 272.807 Q56.7167 277.772 59.9632 280.446 Q63.1779 283.088 69.2253 283.088 L88.0042 283.088 L88.0042 288.976 L52.3562 288.976 L52.3562 283.088 L57.8944 283.088 Q54.6479 281.242 53.0883 278.282 Q51.4968 275.321 51.4968 271.088 Q51.4968 270.484 51.5923 269.751 Q51.656 269.019 51.8151 268.128 L57.8307 268.096 Z\" fill=\"#000000\" fill-rule=\"evenodd\" fill-opacity=\"1\" /><path clip-path=\"url(#clip400)\" d=\"M 0 0 M91.3143 247.121 Q97.68 249.604 99.6216 251.959 Q101.563 254.315 101.563 258.261 L101.563 262.94 L96.6615 262.94 L96.6615 259.503 Q96.6615 257.084 95.5157 255.747 Q94.3699 254.41 90.1048 252.787 L87.4312 251.737 L52.3562 266.155 L52.3562 259.948 L80.238 248.808 L52.3562 237.668 L52.3562 231.462 L91.3143 247.121 Z\" fill=\"#000000\" fill-rule=\"evenodd\" fill-opacity=\"1\" /><polyline clip-path=\"url(#clip402)\" style=\"stroke:#009af9; stroke-width:4; stroke-opacity:1; fill:none\" points=\"\n",
       "  272.201,1384.24 373.199,1384.24 373.199,1236.47 474.197,1236.47 474.197,1103.47 575.195,1103.47 575.195,983.78 676.192,983.78 676.192,876.055 777.19,876.055 \n",
       "  777.19,779.102 878.188,779.102 878.188,691.845 979.186,691.845 979.186,613.314 1080.18,613.314 1080.18,542.636 1181.18,542.636 1181.18,479.025 1282.18,479.025 \n",
       "  1282.18,421.776 1383.18,421.776 1383.18,370.251 1484.17,370.251 1484.17,323.879 1585.17,323.879 1585.17,282.144 1686.17,282.144 1686.17,244.583 1787.17,244.583 \n",
       "  1787.17,210.778 1888.17,210.778 1888.17,180.353 1989.16,180.353 1989.16,152.971 2090.16,152.971 2090.16,128.327 2191.16,128.327 2191.16,106.147 2292.16,106.147 \n",
       "  2292.16,86.1857 \n",
       "  \"/>\n",
       "<circle clip-path=\"url(#clip402)\" cx=\"373.199\" cy=\"1236.47\" r=\"14\" fill=\"#e26f46\" fill-rule=\"evenodd\" fill-opacity=\"1\" stroke=\"#000000\" stroke-opacity=\"1\" stroke-width=\"3.2\"/>\n",
       "<circle clip-path=\"url(#clip402)\" cx=\"474.197\" cy=\"1103.47\" r=\"14\" fill=\"#e26f46\" fill-rule=\"evenodd\" fill-opacity=\"1\" stroke=\"#000000\" stroke-opacity=\"1\" stroke-width=\"3.2\"/>\n",
       "<circle clip-path=\"url(#clip402)\" cx=\"575.195\" cy=\"983.78\" r=\"14\" fill=\"#e26f46\" fill-rule=\"evenodd\" fill-opacity=\"1\" stroke=\"#000000\" stroke-opacity=\"1\" stroke-width=\"3.2\"/>\n",
       "<circle clip-path=\"url(#clip402)\" cx=\"676.192\" cy=\"876.055\" r=\"14\" fill=\"#e26f46\" fill-rule=\"evenodd\" fill-opacity=\"1\" stroke=\"#000000\" stroke-opacity=\"1\" stroke-width=\"3.2\"/>\n",
       "<circle clip-path=\"url(#clip402)\" cx=\"777.19\" cy=\"779.102\" r=\"14\" fill=\"#e26f46\" fill-rule=\"evenodd\" fill-opacity=\"1\" stroke=\"#000000\" stroke-opacity=\"1\" stroke-width=\"3.2\"/>\n",
       "<circle clip-path=\"url(#clip402)\" cx=\"878.188\" cy=\"691.845\" r=\"14\" fill=\"#e26f46\" fill-rule=\"evenodd\" fill-opacity=\"1\" stroke=\"#000000\" stroke-opacity=\"1\" stroke-width=\"3.2\"/>\n",
       "<circle clip-path=\"url(#clip402)\" cx=\"979.186\" cy=\"613.314\" r=\"14\" fill=\"#e26f46\" fill-rule=\"evenodd\" fill-opacity=\"1\" stroke=\"#000000\" stroke-opacity=\"1\" stroke-width=\"3.2\"/>\n",
       "<circle clip-path=\"url(#clip402)\" cx=\"1080.18\" cy=\"542.636\" r=\"14\" fill=\"#e26f46\" fill-rule=\"evenodd\" fill-opacity=\"1\" stroke=\"#000000\" stroke-opacity=\"1\" stroke-width=\"3.2\"/>\n",
       "<circle clip-path=\"url(#clip402)\" cx=\"1181.18\" cy=\"479.025\" r=\"14\" fill=\"#e26f46\" fill-rule=\"evenodd\" fill-opacity=\"1\" stroke=\"#000000\" stroke-opacity=\"1\" stroke-width=\"3.2\"/>\n",
       "<circle clip-path=\"url(#clip402)\" cx=\"1282.18\" cy=\"421.776\" r=\"14\" fill=\"#e26f46\" fill-rule=\"evenodd\" fill-opacity=\"1\" stroke=\"#000000\" stroke-opacity=\"1\" stroke-width=\"3.2\"/>\n",
       "<circle clip-path=\"url(#clip402)\" cx=\"1383.18\" cy=\"370.251\" r=\"14\" fill=\"#e26f46\" fill-rule=\"evenodd\" fill-opacity=\"1\" stroke=\"#000000\" stroke-opacity=\"1\" stroke-width=\"3.2\"/>\n",
       "<circle clip-path=\"url(#clip402)\" cx=\"1484.17\" cy=\"323.879\" r=\"14\" fill=\"#e26f46\" fill-rule=\"evenodd\" fill-opacity=\"1\" stroke=\"#000000\" stroke-opacity=\"1\" stroke-width=\"3.2\"/>\n",
       "<circle clip-path=\"url(#clip402)\" cx=\"1585.17\" cy=\"282.144\" r=\"14\" fill=\"#e26f46\" fill-rule=\"evenodd\" fill-opacity=\"1\" stroke=\"#000000\" stroke-opacity=\"1\" stroke-width=\"3.2\"/>\n",
       "<circle clip-path=\"url(#clip402)\" cx=\"1686.17\" cy=\"244.583\" r=\"14\" fill=\"#e26f46\" fill-rule=\"evenodd\" fill-opacity=\"1\" stroke=\"#000000\" stroke-opacity=\"1\" stroke-width=\"3.2\"/>\n",
       "<circle clip-path=\"url(#clip402)\" cx=\"1787.17\" cy=\"210.778\" r=\"14\" fill=\"#e26f46\" fill-rule=\"evenodd\" fill-opacity=\"1\" stroke=\"#000000\" stroke-opacity=\"1\" stroke-width=\"3.2\"/>\n",
       "<circle clip-path=\"url(#clip402)\" cx=\"1888.17\" cy=\"180.353\" r=\"14\" fill=\"#e26f46\" fill-rule=\"evenodd\" fill-opacity=\"1\" stroke=\"#000000\" stroke-opacity=\"1\" stroke-width=\"3.2\"/>\n",
       "<circle clip-path=\"url(#clip402)\" cx=\"1989.16\" cy=\"152.971\" r=\"14\" fill=\"#e26f46\" fill-rule=\"evenodd\" fill-opacity=\"1\" stroke=\"#000000\" stroke-opacity=\"1\" stroke-width=\"3.2\"/>\n",
       "<circle clip-path=\"url(#clip402)\" cx=\"2090.16\" cy=\"128.327\" r=\"14\" fill=\"#e26f46\" fill-rule=\"evenodd\" fill-opacity=\"1\" stroke=\"#000000\" stroke-opacity=\"1\" stroke-width=\"3.2\"/>\n",
       "<circle clip-path=\"url(#clip402)\" cx=\"2191.16\" cy=\"106.147\" r=\"14\" fill=\"#e26f46\" fill-rule=\"evenodd\" fill-opacity=\"1\" stroke=\"#000000\" stroke-opacity=\"1\" stroke-width=\"3.2\"/>\n",
       "<circle clip-path=\"url(#clip402)\" cx=\"2292.16\" cy=\"86.1857\" r=\"14\" fill=\"#e26f46\" fill-rule=\"evenodd\" fill-opacity=\"1\" stroke=\"#000000\" stroke-opacity=\"1\" stroke-width=\"3.2\"/>\n",
       "</svg>\n"
      ]
     },
     "execution_count": 43,
     "metadata": {},
     "output_type": "execute_result"
    }
   ],
   "source": [
    "plot(xs, ys, leg=:false)\n",
    "scatter!(s)\n",
    "ylabel!(\"cumulative probability of recovery\")\n",
    "xlabel!(\"time (days)\")"
   ]
  },
  {
   "cell_type": "markdown",
   "metadata": {},
   "source": [
    "Think of our discrete-time process in steps, not of days, but of a time $\\delta$."
   ]
  },
  {
   "cell_type": "markdown",
   "metadata": {},
   "source": [
    "Instead of \"cumulative probability that have decayed by day $n$\", want to talk about \"cumulative probablity that have decayed by time $n\\delta$.\""
   ]
  },
  {
   "cell_type": "markdown",
   "metadata": {},
   "source": [
    "What is the probability $p(\\delta)$ of recovering by time $\\delta$?"
   ]
  }
 ],
 "metadata": {
  "@webio": {
   "lastCommId": null,
   "lastKernelId": null
  },
  "kernelspec": {
   "display_name": "Julia 1.5.1",
   "language": "julia",
   "name": "julia-1.5"
  },
  "language_info": {
   "file_extension": ".jl",
   "mimetype": "application/julia",
   "name": "julia",
   "version": "1.5.1"
  }
 },
 "nbformat": 4,
 "nbformat_minor": 4
}

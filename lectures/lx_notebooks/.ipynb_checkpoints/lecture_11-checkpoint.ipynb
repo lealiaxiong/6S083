{
 "cells": [
  {
   "cell_type": "markdown",
   "metadata": {},
   "source": [
    "# SIR model using DifferentialEquations.jl"
   ]
  },
  {
   "cell_type": "code",
   "execution_count": 2,
   "metadata": {},
   "outputs": [
    {
     "name": "stderr",
     "output_type": "stream",
     "text": [
      "┌ Info: Precompiling DifferentialEquations [0c46a032-eb83-5123-abaf-570d42b7fbaa]\n",
      "└ @ Base loading.jl:1278\n"
     ]
    },
    {
     "ename": "LoadError",
     "evalue": "InterruptException:",
     "output_type": "error",
     "traceback": [
      "InterruptException:",
      "",
      "Stacktrace:",
      " [1] try_yieldto(::typeof(Base.ensure_rescheduled)) at .\\task.jl:656",
      " [2] wait at .\\task.jl:713 [inlined]",
      " [3] wait(::Base.GenericCondition{Base.Threads.SpinLock}) at .\\condition.jl:106",
      " [4] wait(::Base.Process) at .\\process.jl:622",
      " [5] success at .\\process.jl:483 [inlined]",
      " [6] compilecache(::Base.PkgId, ::String) at .\\loading.jl:1287",
      " [7] _require(::Base.PkgId) at .\\loading.jl:1030",
      " [8] require(::Base.PkgId) at .\\loading.jl:928",
      " [9] require(::Module, ::Symbol) at .\\loading.jl:923",
      " [10] include_string(::Function, ::Module, ::String, ::String) at .\\loading.jl:1091"
     ]
    }
   ],
   "source": [
    "using DifferentialEquations\n",
    "using Plots"
   ]
  },
  {
   "cell_type": "code",
   "execution_count": 4,
   "metadata": {},
   "outputs": [
    {
     "ename": "LoadError",
     "evalue": "syntax: \"\\\" is not a unary operator",
     "output_type": "error",
     "traceback": [
      "syntax: \"\\\" is not a unary operator",
      "",
      "Stacktrace:",
      " [1] top-level scope at In[4]:5",
      " [2] include_string(::Function, ::Module, ::String, ::String) at .\\loading.jl:1091"
     ]
    }
   ],
   "source": [
    "function sir_ode!(du, u, p, t)\n",
    "    \n",
    "    # Unpack variables and parameters\n",
    "    S, I, R = u\n",
    "    \\beta, \\gamma = p\n",
    "    \n",
    "    # Define differential equations\n",
    "    dS = -\\beta * S * I\n",
    "    dI = +\\beta * S * I - \\gamma * I\n",
    "    dR = +\\gamma * I\n",
    "    \n",
    "    du .= (dS, dI, dR)\n",
    "end"
   ]
  },
  {
   "cell_type": "code",
   "execution_count": null,
   "metadata": {},
   "outputs": [],
   "source": []
  }
 ],
 "metadata": {
  "@webio": {
   "lastCommId": null,
   "lastKernelId": null
  },
  "kernelspec": {
   "display_name": "Julia 1.5.1",
   "language": "julia",
   "name": "julia-1.5"
  },
  "language_info": {
   "file_extension": ".jl",
   "mimetype": "application/julia",
   "name": "julia",
   "version": "1.5.1"
  }
 },
 "nbformat": 4,
 "nbformat_minor": 4
}
